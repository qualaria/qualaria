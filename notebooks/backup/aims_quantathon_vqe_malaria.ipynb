{
  "nbformat": 4,
  "nbformat_minor": 0,
  "metadata": {
    "colab": {
      "provenance": [],
      "gpuType": "T4"
    },
    "kernelspec": {
      "name": "python3",
      "display_name": "Python 3"
    },
    "language_info": {
      "name": "python"
    },
    "accelerator": "GPU"
  },
  "cells": [
    {
      "cell_type": "code",
      "source": [
        "!pip uninstall -y qiskit qiskit-nature pylatexenc rdkit --quiet\n",
        "!pip install \"qiskit==1.4.3\" qiskit-nature qiskit-nature-pyscf pylatexenc rdkit --quiet"
      ],
      "metadata": {
        "collapsed": true,
        "id": "_ixYYhIpxr2J",
        "colab": {
          "base_uri": "https://localhost:8080/"
        },
        "outputId": "ebc0e703-0b79-4d76-dca2-3fdc195df924"
      },
      "execution_count": null,
      "outputs": [
        {
          "output_type": "stream",
          "name": "stdout",
          "text": [
            "\u001b[33mWARNING: Skipping qiskit as it is not installed.\u001b[0m\u001b[33m\n",
            "\u001b[0m\u001b[33mWARNING: Skipping qiskit-nature as it is not installed.\u001b[0m\u001b[33m\n",
            "\u001b[0m\u001b[33mWARNING: Skipping pylatexenc as it is not installed.\u001b[0m\u001b[33m\n",
            "\u001b[0m\u001b[33mWARNING: Skipping rdkit as it is not installed.\u001b[0m\u001b[33m\n",
            "\u001b[2K     \u001b[90m━━━━━━━━━━━━━━━━━━━━━━━━━━━━━━━━━━━━━━━\u001b[0m \u001b[32m162.6/162.6 kB\u001b[0m \u001b[31m4.6 MB/s\u001b[0m eta \u001b[36m0:00:00\u001b[0m\n",
            "\u001b[?25h  Preparing metadata (setup.py) ... \u001b[?25l\u001b[?25hdone\n",
            "\u001b[2K   \u001b[90m━━━━━━━━━━━━━━━━━━━━━━━━━━━━━━━━━━━━━━━━\u001b[0m \u001b[32m6.8/6.8 MB\u001b[0m \u001b[31m92.4 MB/s\u001b[0m eta \u001b[36m0:00:00\u001b[0m\n",
            "\u001b[2K   \u001b[90m━━━━━━━━━━━━━━━━━━━━━━━━━━━━━━━━━━━━━━━━\u001b[0m \u001b[32m2.2/2.2 MB\u001b[0m \u001b[31m88.8 MB/s\u001b[0m eta \u001b[36m0:00:00\u001b[0m\n",
            "\u001b[2K   \u001b[90m━━━━━━━━━━━━━━━━━━━━━━━━━━━━━━━━━━━━━━━━\u001b[0m \u001b[32m34.9/34.9 MB\u001b[0m \u001b[31m59.1 MB/s\u001b[0m eta \u001b[36m0:00:00\u001b[0m\n",
            "\u001b[2K   \u001b[90m━━━━━━━━━━━━━━━━━━━━━━━━━━━━━━━━━━━━━━━━\u001b[0m \u001b[32m50.9/50.9 MB\u001b[0m \u001b[31m21.4 MB/s\u001b[0m eta \u001b[36m0:00:00\u001b[0m\n",
            "\u001b[2K   \u001b[90m━━━━━━━━━━━━━━━━━━━━━━━━━━━━━━━━━━━━━━━━\u001b[0m \u001b[32m310.5/310.5 kB\u001b[0m \u001b[31m26.5 MB/s\u001b[0m eta \u001b[36m0:00:00\u001b[0m\n",
            "\u001b[2K   \u001b[90m━━━━━━━━━━━━━━━━━━━━━━━━━━━━━━━━━━━━━━━━\u001b[0m \u001b[32m2.1/2.1 MB\u001b[0m \u001b[31m96.7 MB/s\u001b[0m eta \u001b[36m0:00:00\u001b[0m\n",
            "\u001b[2K   \u001b[90m━━━━━━━━━━━━━━━━━━━━━━━━━━━━━━━━━━━━━━━━\u001b[0m \u001b[32m49.5/49.5 kB\u001b[0m \u001b[31m4.7 MB/s\u001b[0m eta \u001b[36m0:00:00\u001b[0m\n",
            "\u001b[2K   \u001b[90m━━━━━━━━━━━━━━━━━━━━━━━━━━━━━━━━━━━━━━━━\u001b[0m \u001b[32m49.7/49.7 MB\u001b[0m \u001b[31m18.2 MB/s\u001b[0m eta \u001b[36m0:00:00\u001b[0m\n",
            "\u001b[2K   \u001b[90m━━━━━━━━━━━━━━━━━━━━━━━━━━━━━━━━━━━━━━━━\u001b[0m \u001b[32m109.0/109.0 kB\u001b[0m \u001b[31m11.1 MB/s\u001b[0m eta \u001b[36m0:00:00\u001b[0m\n",
            "\u001b[?25h  Building wheel for pylatexenc (setup.py) ... \u001b[?25l\u001b[?25hdone\n"
          ]
        }
      ]
    },
    {
      "cell_type": "code",
      "source": [
        "from qiskit_nature.units import DistanceUnit\n",
        "from qiskit_nature.second_q.drivers import PySCFDriver\n",
        "from qiskit_nature.second_q.mappers import JordanWignerMapper\n",
        "from qiskit_algorithms import VQE\n",
        "from qiskit_algorithms.optimizers import SLSQP\n",
        "from qiskit.primitives import Estimator\n",
        "from qiskit_nature.second_q.circuit.library import HartreeFock, UCCSD\n",
        "from qiskit_nature.second_q.algorithms import GroundStateEigensolver\n",
        "from qiskit_algorithms import NumPyMinimumEigensolver\n",
        "from rdkit import Chem\n",
        "from rdkit.Chem import AllChem\n",
        "import time"
      ],
      "metadata": {
        "id": "F9lLnRJRyF5V"
      },
      "execution_count": null,
      "outputs": []
    },
    {
      "cell_type": "code",
      "source": [
        "from qiskit_algorithms.utils import algorithm_globals\n",
        "# Setting random seed to ensure consistent results\n",
        "algorithm_globals.random_seed = 42"
      ],
      "metadata": {
        "id": "3MUJj0jOJLh7"
      },
      "execution_count": null,
      "outputs": []
    },
    {
      "cell_type": "code",
      "source": [
        "def compute_molecule_coordinates(sdf_path):\n",
        "    # Load the molecule from an SDF file\n",
        "    supplier = Chem.SDMolSupplier(sdf_path, removeHs=False)\n",
        "    mol = supplier[0]  # First molecule in the file\n",
        "\n",
        "    if mol is None:\n",
        "        raise ValueError(\"Could not read molecule from SDF. Check the file format.\")\n",
        "\n",
        "    # Generate 3D coordinates if not already present\n",
        "    if not mol.GetConformer().Is3D():\n",
        "        AllChem.EmbedMolecule(mol, AllChem.ETKDG())\n",
        "        AllChem.MMFFOptimizeMolecule(mol)\n",
        "\n",
        "    # Extract coordinates and format them\n",
        "    conf = mol.GetConformer()\n",
        "    coords = []\n",
        "\n",
        "    for i in range(mol.GetNumAtoms()):\n",
        "        atom = mol.GetAtomWithIdx(i)\n",
        "        pos = conf.GetAtomPosition(i)\n",
        "        coords.append(f\"{atom.GetSymbol()} {pos.x:.6f} {pos.y:.6f} {pos.z:.6f}\")\n",
        "\n",
        "    formatted_coords = \"; \".join(coords)\n",
        "\n",
        "    return formatted_coords\n"
      ],
      "metadata": {
        "id": "e03gM-nSTdHm"
      },
      "execution_count": null,
      "outputs": []
    },
    {
      "cell_type": "code",
      "source": [
        "from google.colab import files\n",
        "uploaded = files.upload()"
      ],
      "metadata": {
        "colab": {
          "base_uri": "https://localhost:8080/",
          "height": 74
        },
        "id": "1e5Z80cZUmRh",
        "outputId": "9854e1d0-4bea-4c75-a9d1-750c6ad2fb1b"
      },
      "execution_count": null,
      "outputs": [
        {
          "output_type": "display_data",
          "data": {
            "text/plain": [
              "<IPython.core.display.HTML object>"
            ],
            "text/html": [
              "\n",
              "     <input type=\"file\" id=\"files-83363028-1ae3-47a7-9cad-944713e648f3\" name=\"files[]\" multiple disabled\n",
              "        style=\"border:none\" />\n",
              "     <output id=\"result-83363028-1ae3-47a7-9cad-944713e648f3\">\n",
              "      Upload widget is only available when the cell has been executed in the\n",
              "      current browser session. Please rerun this cell to enable.\n",
              "      </output>\n",
              "      <script>// Copyright 2017 Google LLC\n",
              "//\n",
              "// Licensed under the Apache License, Version 2.0 (the \"License\");\n",
              "// you may not use this file except in compliance with the License.\n",
              "// You may obtain a copy of the License at\n",
              "//\n",
              "//      http://www.apache.org/licenses/LICENSE-2.0\n",
              "//\n",
              "// Unless required by applicable law or agreed to in writing, software\n",
              "// distributed under the License is distributed on an \"AS IS\" BASIS,\n",
              "// WITHOUT WARRANTIES OR CONDITIONS OF ANY KIND, either express or implied.\n",
              "// See the License for the specific language governing permissions and\n",
              "// limitations under the License.\n",
              "\n",
              "/**\n",
              " * @fileoverview Helpers for google.colab Python module.\n",
              " */\n",
              "(function(scope) {\n",
              "function span(text, styleAttributes = {}) {\n",
              "  const element = document.createElement('span');\n",
              "  element.textContent = text;\n",
              "  for (const key of Object.keys(styleAttributes)) {\n",
              "    element.style[key] = styleAttributes[key];\n",
              "  }\n",
              "  return element;\n",
              "}\n",
              "\n",
              "// Max number of bytes which will be uploaded at a time.\n",
              "const MAX_PAYLOAD_SIZE = 100 * 1024;\n",
              "\n",
              "function _uploadFiles(inputId, outputId) {\n",
              "  const steps = uploadFilesStep(inputId, outputId);\n",
              "  const outputElement = document.getElementById(outputId);\n",
              "  // Cache steps on the outputElement to make it available for the next call\n",
              "  // to uploadFilesContinue from Python.\n",
              "  outputElement.steps = steps;\n",
              "\n",
              "  return _uploadFilesContinue(outputId);\n",
              "}\n",
              "\n",
              "// This is roughly an async generator (not supported in the browser yet),\n",
              "// where there are multiple asynchronous steps and the Python side is going\n",
              "// to poll for completion of each step.\n",
              "// This uses a Promise to block the python side on completion of each step,\n",
              "// then passes the result of the previous step as the input to the next step.\n",
              "function _uploadFilesContinue(outputId) {\n",
              "  const outputElement = document.getElementById(outputId);\n",
              "  const steps = outputElement.steps;\n",
              "\n",
              "  const next = steps.next(outputElement.lastPromiseValue);\n",
              "  return Promise.resolve(next.value.promise).then((value) => {\n",
              "    // Cache the last promise value to make it available to the next\n",
              "    // step of the generator.\n",
              "    outputElement.lastPromiseValue = value;\n",
              "    return next.value.response;\n",
              "  });\n",
              "}\n",
              "\n",
              "/**\n",
              " * Generator function which is called between each async step of the upload\n",
              " * process.\n",
              " * @param {string} inputId Element ID of the input file picker element.\n",
              " * @param {string} outputId Element ID of the output display.\n",
              " * @return {!Iterable<!Object>} Iterable of next steps.\n",
              " */\n",
              "function* uploadFilesStep(inputId, outputId) {\n",
              "  const inputElement = document.getElementById(inputId);\n",
              "  inputElement.disabled = false;\n",
              "\n",
              "  const outputElement = document.getElementById(outputId);\n",
              "  outputElement.innerHTML = '';\n",
              "\n",
              "  const pickedPromise = new Promise((resolve) => {\n",
              "    inputElement.addEventListener('change', (e) => {\n",
              "      resolve(e.target.files);\n",
              "    });\n",
              "  });\n",
              "\n",
              "  const cancel = document.createElement('button');\n",
              "  inputElement.parentElement.appendChild(cancel);\n",
              "  cancel.textContent = 'Cancel upload';\n",
              "  const cancelPromise = new Promise((resolve) => {\n",
              "    cancel.onclick = () => {\n",
              "      resolve(null);\n",
              "    };\n",
              "  });\n",
              "\n",
              "  // Wait for the user to pick the files.\n",
              "  const files = yield {\n",
              "    promise: Promise.race([pickedPromise, cancelPromise]),\n",
              "    response: {\n",
              "      action: 'starting',\n",
              "    }\n",
              "  };\n",
              "\n",
              "  cancel.remove();\n",
              "\n",
              "  // Disable the input element since further picks are not allowed.\n",
              "  inputElement.disabled = true;\n",
              "\n",
              "  if (!files) {\n",
              "    return {\n",
              "      response: {\n",
              "        action: 'complete',\n",
              "      }\n",
              "    };\n",
              "  }\n",
              "\n",
              "  for (const file of files) {\n",
              "    const li = document.createElement('li');\n",
              "    li.append(span(file.name, {fontWeight: 'bold'}));\n",
              "    li.append(span(\n",
              "        `(${file.type || 'n/a'}) - ${file.size} bytes, ` +\n",
              "        `last modified: ${\n",
              "            file.lastModifiedDate ? file.lastModifiedDate.toLocaleDateString() :\n",
              "                                    'n/a'} - `));\n",
              "    const percent = span('0% done');\n",
              "    li.appendChild(percent);\n",
              "\n",
              "    outputElement.appendChild(li);\n",
              "\n",
              "    const fileDataPromise = new Promise((resolve) => {\n",
              "      const reader = new FileReader();\n",
              "      reader.onload = (e) => {\n",
              "        resolve(e.target.result);\n",
              "      };\n",
              "      reader.readAsArrayBuffer(file);\n",
              "    });\n",
              "    // Wait for the data to be ready.\n",
              "    let fileData = yield {\n",
              "      promise: fileDataPromise,\n",
              "      response: {\n",
              "        action: 'continue',\n",
              "      }\n",
              "    };\n",
              "\n",
              "    // Use a chunked sending to avoid message size limits. See b/62115660.\n",
              "    let position = 0;\n",
              "    do {\n",
              "      const length = Math.min(fileData.byteLength - position, MAX_PAYLOAD_SIZE);\n",
              "      const chunk = new Uint8Array(fileData, position, length);\n",
              "      position += length;\n",
              "\n",
              "      const base64 = btoa(String.fromCharCode.apply(null, chunk));\n",
              "      yield {\n",
              "        response: {\n",
              "          action: 'append',\n",
              "          file: file.name,\n",
              "          data: base64,\n",
              "        },\n",
              "      };\n",
              "\n",
              "      let percentDone = fileData.byteLength === 0 ?\n",
              "          100 :\n",
              "          Math.round((position / fileData.byteLength) * 100);\n",
              "      percent.textContent = `${percentDone}% done`;\n",
              "\n",
              "    } while (position < fileData.byteLength);\n",
              "  }\n",
              "\n",
              "  // All done.\n",
              "  yield {\n",
              "    response: {\n",
              "      action: 'complete',\n",
              "    }\n",
              "  };\n",
              "}\n",
              "\n",
              "scope.google = scope.google || {};\n",
              "scope.google.colab = scope.google.colab || {};\n",
              "scope.google.colab._files = {\n",
              "  _uploadFiles,\n",
              "  _uploadFilesContinue,\n",
              "};\n",
              "})(self);\n",
              "</script> "
            ]
          },
          "metadata": {}
        },
        {
          "output_type": "stream",
          "name": "stdout",
          "text": [
            "Saving ligand_1.sdf to ligand_1.sdf\n"
          ]
        }
      ]
    },
    {
      "cell_type": "code",
      "source": [
        "# O=C(O)CCc1cccc(CO)c1"
      ],
      "metadata": {
        "id": "a9kKi2uv0tfO"
      },
      "execution_count": null,
      "outputs": []
    },
    {
      "cell_type": "code",
      "source": [
        "# molecule = \"H 0 0 0; H 0 0 0.735\" # H_2\n",
        "# molecule = \"N 0.000 0.000 0.100; H 0.9377 0.000 -0.270; H -0.46885 0.812 -0.270; H -0.46885 -0.812 -0.270\" # NH_3\n",
        "# molecule = \"N 0.000 0.000 0.000; H 0.000 0.000 1.010\"\n",
        "\n",
        "## Load molecule automatically from SDF file that we can download from https://pubchem.ncbi.nlm.nih.gov/\n",
        "\n",
        "## Eg: Pyrimethamine : https://pubchem.ncbi.nlm.nih.gov/compound/4993\n",
        "sdf_file = \"ligand_1.sdf\"\n",
        "# sdf_file = \"Pyrimethamine_Conformer3D_COMPOUND_CID_4993.sdf\"\n",
        "molecule = compute_molecule_coordinates(sdf_file)\n",
        "\n",
        "print(molecule)"
      ],
      "metadata": {
        "id": "L6vQB2zrhRnD",
        "colab": {
          "base_uri": "https://localhost:8080/"
        },
        "outputId": "a1e83ea1-0e19-4894-f2d5-285d817070ab"
      },
      "execution_count": null,
      "outputs": [
        {
          "output_type": "stream",
          "name": "stdout",
          "text": [
            "O 4.596800 -0.351900 0.489700; C 3.581600 -1.088600 0.369200; O 3.725000 -2.408800 -0.045800; C 2.217000 -0.532700 0.625600; C 1.620300 0.038400 -0.662800; C 0.244000 0.592600 -0.407600; C 0.081800 1.929900 -0.012700; C -1.192000 2.432300 0.264400; C -2.312300 1.604700 0.155300; C -2.166300 0.266300 -0.240300; C -3.366900 -0.636400 -0.312800; O -3.634800 -1.182700 0.949300; C -0.883300 -0.240000 -0.503200; H 4.641000 -2.795800 -0.239300; H 2.281500 0.264500 1.398600; H 1.563600 -1.342900 1.016700; H 2.281600 0.840700 -1.059100; H 1.566600 -0.758600 -1.437300; H 0.942000 2.580500 0.086400; H -1.310500 3.463500 0.571300; H -3.292400 2.005300 0.383300; H -4.254100 -0.057100 -0.646700; H -3.208800 -1.446000 -1.061600; H -2.960200 -1.896000 1.098600; H -0.761300 -1.280900 -0.779200\n"
          ]
        }
      ]
    },
    {
      "cell_type": "code",
      "source": [
        "start_time = time.time()\n",
        "\n",
        "driver = PySCFDriver(\n",
        "    atom=molecule,\n",
        "    basis=\"sto3g\",\n",
        "    charge=0,\n",
        "    spin=0,\n",
        "    unit=DistanceUnit.ANGSTROM,\n",
        ")\n",
        "\n",
        "es_problem = driver.run()\n",
        "\n",
        "print(f\"Driver took time: {time.time() - start_time} seconds\")"
      ],
      "metadata": {
        "id": "MR-npbp7yMwT",
        "colab": {
          "base_uri": "https://localhost:8080/"
        },
        "outputId": "62a6bedd-2935-4b85-c60a-6d1422cd8d66"
      },
      "execution_count": null,
      "outputs": [
        {
          "output_type": "stream",
          "name": "stdout",
          "text": [
            "Driver took time: 13.444337606430054 seconds\n"
          ]
        }
      ]
    },
    {
      "cell_type": "code",
      "source": [
        "from qiskit_nature.second_q.transformers import ActiveSpaceTransformer\n",
        "\n",
        "ast = ActiveSpaceTransformer(2, 2)\n",
        "es_problem = ast.transform(es_problem)"
      ],
      "metadata": {
        "id": "evqqLsAe1Zm4"
      },
      "execution_count": null,
      "outputs": []
    },
    {
      "cell_type": "code",
      "execution_count": null,
      "metadata": {
        "id": "t3KX9s29xUI4"
      },
      "outputs": [],
      "source": [
        "mapper = JordanWignerMapper()"
      ]
    },
    {
      "cell_type": "code",
      "source": [
        "start_time = time.time()\n",
        "\n",
        "ansatz = UCCSD(\n",
        "    es_problem.num_spatial_orbitals,\n",
        "    es_problem.num_particles,\n",
        "    mapper,\n",
        "    initial_state=HartreeFock(\n",
        "        es_problem.num_spatial_orbitals,\n",
        "        es_problem.num_particles,\n",
        "        mapper,\n",
        "    ),\n",
        ")\n",
        "\n",
        "end_time = time.time()\n",
        "print(f\"Ansatz took: {end_time - start_time} seconds\")\n",
        "\n",
        "vqe_solver = VQE(Estimator(), ansatz, SLSQP())\n",
        "vqe_solver.initial_point = [0.0] * ansatz.num_parameters"
      ],
      "metadata": {
        "id": "yJJ4BSvxxWXm",
        "colab": {
          "base_uri": "https://localhost:8080/"
        },
        "outputId": "61bbc95c-687b-4b31-9706-e453adf204bd"
      },
      "execution_count": null,
      "outputs": [
        {
          "output_type": "stream",
          "name": "stdout",
          "text": [
            "Ansatz took: 0.01266026496887207 seconds\n"
          ]
        },
        {
          "output_type": "stream",
          "name": "stderr",
          "text": [
            "/tmp/ipython-input-13-3408379144.py:17: DeprecationWarning: The class ``qiskit.primitives.estimator.Estimator`` is deprecated as of qiskit 1.2. It will be removed no earlier than 3 months after the release date. All implementations of the `BaseEstimatorV1` interface have been deprecated in favor of their V2 counterparts. The V2 alternative for the `Estimator` class is `StatevectorEstimator`.\n",
            "  vqe_solver = VQE(Estimator(), ansatz, SLSQP())\n"
          ]
        }
      ]
    },
    {
      "cell_type": "code",
      "source": [
        "calc = GroundStateEigensolver(mapper, vqe_solver)"
      ],
      "metadata": {
        "id": "c5KK1jEnDnAo"
      },
      "execution_count": null,
      "outputs": []
    },
    {
      "cell_type": "code",
      "source": [
        "start_time = time.time()\n",
        "\n",
        "res = calc.solve(es_problem)\n",
        "\n",
        "end_time = time.time()\n",
        "\n",
        "print(\"\"\"\n",
        "Selected top 5 ligands:\n",
        "O=C(O)CCc1cccc(CO)c1 | QED: 0.73 | MW: 180.20\n",
        "COc1ccc2c(O)cccc2c1 | QED: 0.72 | MW: 174.20\n",
        "COC1CCc2c(O)cccc2C1 | QED: 0.71 | MW: 178.23\n",
        "O=C(O)COc1ccccc1 | QED: 0.71 | MW: 152.15\n",
        "O=C(O)c1cccc(C(=O)O)c1 | QED: 0.69 | MW: 166.13\n",
        "\\n\"\"\")\n",
        "print(\"Ligand: O=C(O)CCc1cccc(CO)c1 | QED: 0.73\\n\")\n",
        "print(res)\n",
        "print(f\"Running time: {end_time - start_time} seconds\")"
      ],
      "metadata": {
        "id": "4cB7kZX5Emfm",
        "colab": {
          "base_uri": "https://localhost:8080/"
        },
        "outputId": "3537a311-99dc-4768-9848-e4e07b1afcb6"
      },
      "execution_count": null,
      "outputs": [
        {
          "output_type": "stream",
          "name": "stdout",
          "text": [
            "\n",
            "Selected top 5 ligands:\n",
            "O=C(O)CCc1cccc(CO)c1 | QED: 0.73 | MW: 180.20\n",
            "COc1ccc2c(O)cccc2c1 | QED: 0.72 | MW: 174.20\n",
            "COC1CCc2c(O)cccc2C1 | QED: 0.71 | MW: 178.23\n",
            "O=C(O)COc1ccccc1 | QED: 0.71 | MW: 152.15\n",
            "O=C(O)c1cccc(C(=O)O)c1 | QED: 0.69 | MW: 166.13\n",
            "\n",
            "\n",
            "Ligand: O=C(O)CCc1cccc(CO)c1 | QED: 0.73\n",
            "\n",
            "=== GROUND STATE ENERGY ===\n",
            " \n",
            "* Electronic ground state energy (Hartree): -0.871042191872\n",
            "  - computed part:      -0.871042191872\n",
            "  - ActiveSpaceTransformer extracted energy part: 0.0\n",
            "~ Nuclear repulsion energy (Hartree): 739.098911444657\n",
            "> Total ground state energy (Hartree): 738.227869252784\n",
            " \n",
            "=== MEASURED OBSERVABLES ===\n",
            " \n",
            "  0:  # Particles: 2.000 S: 0.000 S^2: 0.000 M: 0.000\n",
            " \n",
            "=== DIPOLE MOMENTS ===\n",
            " \n",
            "~ Nuclear dipole moment (a.u.): [41.43867035  -10.90560946  11.58005272]\n",
            " \n",
            "  0: \n",
            "  * Electronic dipole moment (a.u.): [-3.409651212445  3.774015032041  -0.329081922888]\n",
            "    - computed part:      [-3.409651212445  3.774015032041  -0.329081922888]\n",
            "    - ActiveSpaceTransformer extracted energy part: [0.0  0.0  0.0]\n",
            "  > Dipole moment (a.u.): [44.848321562445  -14.679624492041  11.909134642888]  Total: 48.669197755236\n",
            "                 (debye): [113.99305230048  -37.311880225944  30.269998093686]  Total: 123.704749962833\n",
            " \n",
            "Running time: 0.255784273147583 seconds\n"
          ]
        }
      ]
    },
    {
      "cell_type": "markdown",
      "source": [
        "### The Hamiltonian"
      ],
      "metadata": {
        "id": "crcPzrfKITJ5"
      }
    },
    {
      "cell_type": "code",
      "source": [
        "fermionic_op = es_problem.hamiltonian.second_q_op()\n",
        "qubit_jw_op = mapper.map(fermionic_op)\n",
        "print(qubit_jw_op)"
      ],
      "metadata": {
        "colab": {
          "base_uri": "https://localhost:8080/"
        },
        "id": "wexvVJ0fkCD-",
        "outputId": "939c5972-b2dc-4565-adc1-48a494a5c741"
      },
      "execution_count": null,
      "outputs": [
        {
          "output_type": "stream",
          "name": "stdout",
          "text": [
            "SparsePauliOp(['IIII', 'IIIZ', 'IIZI', 'IIZZ', 'IZII', 'IZIZ', 'YYII', 'YYIZ', 'XXII', 'XXIZ', 'ZIII', 'ZIIZ', 'IIYY', 'IZYY', 'IIXX', 'IZXX', 'YYYY', 'XXYY', 'YYXX', 'XXXX', 'ZIYY', 'ZIXX', 'IZZI', 'YYZI', 'XXZI', 'ZIZI', 'ZZII'],\n",
            "              coeffs=[-0.45175644+0.j,  0.07877872+0.j, -0.06826022+0.j,  0.05807464+0.j,\n",
            "  0.07877872+0.j,  0.08055837+0.j, -0.00092885+0.j, -0.00268752+0.j,\n",
            " -0.00092885+0.j, -0.00268752+0.j, -0.06826022+0.j,  0.07820164+0.j,\n",
            " -0.00092885+0.j, -0.00268752+0.j, -0.00092885+0.j, -0.00268752+0.j,\n",
            "  0.02012701+0.j,  0.02012701+0.j,  0.02012701+0.j,  0.02012701+0.j,\n",
            " -0.00175935+0.j, -0.00175935+0.j,  0.07820164+0.j, -0.00175935+0.j,\n",
            " -0.00175935+0.j,  0.07760852+0.j,  0.05807464+0.j])\n"
          ]
        }
      ]
    },
    {
      "cell_type": "markdown",
      "source": [
        "### The quantum circuit (the ansatz)"
      ],
      "metadata": {
        "id": "Rsf9Gr8hIe5G"
      }
    },
    {
      "cell_type": "code",
      "source": [
        "ansatz.decompose().draw('mpl')"
      ],
      "metadata": {
        "colab": {
          "base_uri": "https://localhost:8080/",
          "height": 304
        },
        "id": "2lLkE_nce9u7",
        "outputId": "6c538dde-8fe9-4065-809f-3aa50d74ea9d"
      },
      "execution_count": null,
      "outputs": [
        {
          "output_type": "execute_result",
          "data": {
            "text/plain": [
              "<Figure size 1876.11x367.889 with 1 Axes>"
            ],
            "image/png": "[encoded data removed]"
          },
          "metadata": {},
          "execution_count": 24
        }
      ]
    },
    {
      "cell_type": "code",
      "source": [],
      "metadata": {
        "id": "FRvJGyXUeQW0"
      },
      "execution_count": null,
      "outputs": []
    }
  ]
}