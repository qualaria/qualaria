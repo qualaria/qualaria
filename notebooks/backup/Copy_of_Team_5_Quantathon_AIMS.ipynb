{
  "nbformat": 4,
  "nbformat_minor": 0,
  "metadata": {
    "colab": {
      "provenance": [],
      "gpuType": "T4"
    },
    "kernelspec": {
      "name": "python3",
      "display_name": "Python 3"
    },
    "language_info": {
      "name": "python"
    },
    "accelerator": "GPU"
  },
  "cells": [
    {
      "cell_type": "code",
      "source": [
        "# !pip install ipython-autotime --quiet\n",
        "# %load_ext autotime"
      ],
      "metadata": {
        "id": "lhon4Sbsbx3n"
      },
      "execution_count": 3,
      "outputs": []
    },
    {
      "cell_type": "code",
      "source": [
        "!pip install Bio py3Dmol\n",
        "# !pip install gdown"
      ],
      "metadata": {
        "colab": {
          "base_uri": "https://localhost:8080/"
        },
        "id": "-mkQN2fjIKaw",
        "outputId": "c79f64ba-e85f-480c-b628-2dc4e3f36594",
        "collapsed": true
      },
      "execution_count": 3,
      "outputs": [
        {
          "output_type": "stream",
          "name": "stdout",
          "text": [
            "Collecting Bio\n",
            "  Downloading bio-1.8.0-py3-none-any.whl.metadata (5.7 kB)\n",
            "Collecting py3Dmol\n",
            "  Downloading py3dmol-2.5.1-py2.py3-none-any.whl.metadata (2.1 kB)\n",
            "Collecting biopython>=1.80 (from Bio)\n",
            "  Downloading biopython-1.85-cp311-cp311-manylinux_2_17_x86_64.manylinux2014_x86_64.whl.metadata (13 kB)\n",
            "Collecting gprofiler-official (from Bio)\n",
            "  Downloading gprofiler_official-1.0.0-py3-none-any.whl.metadata (11 kB)\n",
            "Collecting mygene (from Bio)\n",
            "  Downloading mygene-3.2.2-py2.py3-none-any.whl.metadata (10 kB)\n",
            "Requirement already satisfied: pandas in /usr/local/lib/python3.11/dist-packages (from Bio) (2.2.2)\n",
            "Requirement already satisfied: pooch in /usr/local/lib/python3.11/dist-packages (from Bio) (1.8.2)\n",
            "Requirement already satisfied: requests in /usr/local/lib/python3.11/dist-packages (from Bio) (2.32.3)\n",
            "Requirement already satisfied: tqdm in /usr/local/lib/python3.11/dist-packages (from Bio) (4.67.1)\n",
            "Requirement already satisfied: numpy in /usr/local/lib/python3.11/dist-packages (from biopython>=1.80->Bio) (2.0.2)\n",
            "Collecting biothings-client>=0.2.6 (from mygene->Bio)\n",
            "  Downloading biothings_client-0.4.1-py3-none-any.whl.metadata (10 kB)\n",
            "Requirement already satisfied: python-dateutil>=2.8.2 in /usr/local/lib/python3.11/dist-packages (from pandas->Bio) (2.9.0.post0)\n",
            "Requirement already satisfied: pytz>=2020.1 in /usr/local/lib/python3.11/dist-packages (from pandas->Bio) (2025.2)\n",
            "Requirement already satisfied: tzdata>=2022.7 in /usr/local/lib/python3.11/dist-packages (from pandas->Bio) (2025.2)\n",
            "Requirement already satisfied: platformdirs>=2.5.0 in /usr/local/lib/python3.11/dist-packages (from pooch->Bio) (4.3.8)\n",
            "Requirement already satisfied: packaging>=20.0 in /usr/local/lib/python3.11/dist-packages (from pooch->Bio) (25.0)\n",
            "Requirement already satisfied: charset-normalizer<4,>=2 in /usr/local/lib/python3.11/dist-packages (from requests->Bio) (3.4.2)\n",
            "Requirement already satisfied: idna<4,>=2.5 in /usr/local/lib/python3.11/dist-packages (from requests->Bio) (3.10)\n",
            "Requirement already satisfied: urllib3<3,>=1.21.1 in /usr/local/lib/python3.11/dist-packages (from requests->Bio) (2.5.0)\n",
            "Requirement already satisfied: certifi>=2017.4.17 in /usr/local/lib/python3.11/dist-packages (from requests->Bio) (2025.7.14)\n",
            "Requirement already satisfied: httpx>=0.22.0 in /usr/local/lib/python3.11/dist-packages (from biothings-client>=0.2.6->mygene->Bio) (0.28.1)\n",
            "Requirement already satisfied: six>=1.5 in /usr/local/lib/python3.11/dist-packages (from python-dateutil>=2.8.2->pandas->Bio) (1.17.0)\n",
            "Requirement already satisfied: anyio in /usr/local/lib/python3.11/dist-packages (from httpx>=0.22.0->biothings-client>=0.2.6->mygene->Bio) (4.9.0)\n",
            "Requirement already satisfied: httpcore==1.* in /usr/local/lib/python3.11/dist-packages (from httpx>=0.22.0->biothings-client>=0.2.6->mygene->Bio) (1.0.9)\n",
            "Requirement already satisfied: h11>=0.16 in /usr/local/lib/python3.11/dist-packages (from httpcore==1.*->httpx>=0.22.0->biothings-client>=0.2.6->mygene->Bio) (0.16.0)\n",
            "Requirement already satisfied: sniffio>=1.1 in /usr/local/lib/python3.11/dist-packages (from anyio->httpx>=0.22.0->biothings-client>=0.2.6->mygene->Bio) (1.3.1)\n",
            "Requirement already satisfied: typing_extensions>=4.5 in /usr/local/lib/python3.11/dist-packages (from anyio->httpx>=0.22.0->biothings-client>=0.2.6->mygene->Bio) (4.14.1)\n",
            "Downloading bio-1.8.0-py3-none-any.whl (321 kB)\n",
            "\u001b[2K   \u001b[90m━━━━━━━━━━━━━━━━━━━━━━━━━━━━━━━━━━━━━━━━\u001b[0m \u001b[32m321.1/321.1 kB\u001b[0m \u001b[31m5.8 MB/s\u001b[0m eta \u001b[36m0:00:00\u001b[0m\n",
            "\u001b[?25hDownloading py3dmol-2.5.1-py2.py3-none-any.whl (7.2 kB)\n",
            "Downloading biopython-1.85-cp311-cp311-manylinux_2_17_x86_64.manylinux2014_x86_64.whl (3.3 MB)\n",
            "\u001b[2K   \u001b[90m━━━━━━━━━━━━━━━━━━━━━━━━━━━━━━━━━━━━━━━━\u001b[0m \u001b[32m3.3/3.3 MB\u001b[0m \u001b[31m42.3 MB/s\u001b[0m eta \u001b[36m0:00:00\u001b[0m\n",
            "\u001b[?25hDownloading gprofiler_official-1.0.0-py3-none-any.whl (9.3 kB)\n",
            "Downloading mygene-3.2.2-py2.py3-none-any.whl (5.4 kB)\n",
            "Downloading biothings_client-0.4.1-py3-none-any.whl (46 kB)\n",
            "\u001b[2K   \u001b[90m━━━━━━━━━━━━━━━━━━━━━━━━━━━━━━━━━━━━━━━━\u001b[0m \u001b[32m46.7/46.7 kB\u001b[0m \u001b[31m3.6 MB/s\u001b[0m eta \u001b[36m0:00:00\u001b[0m\n",
            "\u001b[?25hInstalling collected packages: py3Dmol, biopython, gprofiler-official, biothings-client, mygene, Bio\n",
            "Successfully installed Bio-1.8.0 biopython-1.85 biothings-client-0.4.1 gprofiler-official-1.0.0 mygene-3.2.2 py3Dmol-2.5.1\n"
          ]
        }
      ]
    },
    {
      "cell_type": "code",
      "source": [
        "# !pip install rdkit rdkit-pypi gdown biopython pyyaml easydict tensorboard lmdb prody pypdb"
      ],
      "metadata": {
        "collapsed": true,
        "id": "8asL3dZ-DjyH"
      },
      "execution_count": 4,
      "outputs": []
    },
    {
      "cell_type": "code",
      "source": [
        "!pip uninstall numpy\n",
        "!pip install numpy==1.26.4"
      ],
      "metadata": {
        "colab": {
          "base_uri": "https://localhost:8080/",
          "height": 515
        },
        "id": "ezVFIDI5-b54",
        "outputId": "0d9cb809-da41-413b-cec9-dbb074708516"
      },
      "execution_count": 1,
      "outputs": [
        {
          "output_type": "stream",
          "name": "stdout",
          "text": [
            "Found existing installation: numpy 1.26.4\n",
            "Uninstalling numpy-1.26.4:\n",
            "  Would remove:\n",
            "    /usr/local/bin/f2py\n",
            "    /usr/local/lib/python3.11/dist-packages/numpy-1.26.4.dist-info/*\n",
            "    /usr/local/lib/python3.11/dist-packages/numpy.libs/libgfortran-040039e1.so.5.0.0\n",
            "    /usr/local/lib/python3.11/dist-packages/numpy.libs/libopenblas64_p-r0-0cf96a72.3.23.dev.so\n",
            "    /usr/local/lib/python3.11/dist-packages/numpy.libs/libquadmath-96973f99.so.0.0.0\n",
            "    /usr/local/lib/python3.11/dist-packages/numpy/*\n",
            "Proceed (Y/n)? y\n",
            "  Successfully uninstalled numpy-1.26.4\n",
            "Collecting numpy==1.26.4\n",
            "  Using cached numpy-1.26.4-cp311-cp311-manylinux_2_17_x86_64.manylinux2014_x86_64.whl.metadata (61 kB)\n",
            "Using cached numpy-1.26.4-cp311-cp311-manylinux_2_17_x86_64.manylinux2014_x86_64.whl (18.3 MB)\n",
            "Installing collected packages: numpy\n",
            "\u001b[31mERROR: pip's dependency resolver does not currently take into account all the packages that are installed. This behaviour is the source of the following dependency conflicts.\n",
            "thinc 8.3.6 requires numpy<3.0.0,>=2.0.0, but you have numpy 1.26.4 which is incompatible.\n",
            "opencv-python-headless 4.12.0.88 requires numpy<2.3.0,>=2; python_version >= \"3.9\", but you have numpy 1.26.4 which is incompatible.\n",
            "opencv-python 4.12.0.88 requires numpy<2.3.0,>=2; python_version >= \"3.9\", but you have numpy 1.26.4 which is incompatible.\n",
            "opencv-contrib-python 4.12.0.88 requires numpy<2.3.0,>=2; python_version >= \"3.9\", but you have numpy 1.26.4 which is incompatible.\u001b[0m\u001b[31m\n",
            "\u001b[0mSuccessfully installed numpy-1.26.4\n"
          ]
        },
        {
          "output_type": "display_data",
          "data": {
            "application/vnd.colab-display-data+json": {
              "pip_warning": {
                "packages": [
                  "numpy"
                ]
              },
              "id": "5e1848edb7374763aa3b2e3d8b4842df"
            }
          },
          "metadata": {}
        }
      ]
    },
    {
      "cell_type": "code",
      "source": [
        "!pip uninstall -y torch torchvision torchaudio torch-scatter torch-sparse torch-cluster torch-geometric\n",
        "!pip install torch==2.1.0 --index-url https://download.pytorch.org/whl/cu118"
      ],
      "metadata": {
        "colab": {
          "base_uri": "https://localhost:8080/"
        },
        "id": "Dvo9V7HO7_kH",
        "outputId": "c27fd264-188c-4ebc-d186-5156eb08bd6a"
      },
      "execution_count": 1,
      "outputs": [
        {
          "output_type": "stream",
          "name": "stdout",
          "text": [
            "Found existing installation: torch 2.6.0+cu124\n",
            "Uninstalling torch-2.6.0+cu124:\n",
            "  Successfully uninstalled torch-2.6.0+cu124\n",
            "Found existing installation: torchvision 0.21.0+cu124\n",
            "Uninstalling torchvision-0.21.0+cu124:\n",
            "  Successfully uninstalled torchvision-0.21.0+cu124\n",
            "Found existing installation: torchaudio 2.6.0+cu124\n",
            "Uninstalling torchaudio-2.6.0+cu124:\n",
            "  Successfully uninstalled torchaudio-2.6.0+cu124\n",
            "\u001b[33mWARNING: Skipping torch-scatter as it is not installed.\u001b[0m\u001b[33m\n",
            "\u001b[0m\u001b[33mWARNING: Skipping torch-sparse as it is not installed.\u001b[0m\u001b[33m\n",
            "\u001b[0m\u001b[33mWARNING: Skipping torch-cluster as it is not installed.\u001b[0m\u001b[33m\n",
            "\u001b[0m\u001b[33mWARNING: Skipping torch-geometric as it is not installed.\u001b[0m\u001b[33m\n",
            "\u001b[0mLooking in indexes: https://download.pytorch.org/whl/cu118\n",
            "Collecting torch==2.1.0\n",
            "  Downloading https://download.pytorch.org/whl/cu118/torch-2.1.0%2Bcu118-cp311-cp311-linux_x86_64.whl (2325.9 MB)\n",
            "\u001b[2K     \u001b[90m━━━━━━━━━━━━━━━━━━━━━━━━━━━━━━━━━━━━━━━━\u001b[0m \u001b[32m2.3/2.3 GB\u001b[0m \u001b[31m641.7 kB/s\u001b[0m eta \u001b[36m0:00:00\u001b[0m\n",
            "\u001b[?25hRequirement already satisfied: filelock in /usr/local/lib/python3.11/dist-packages (from torch==2.1.0) (3.18.0)\n",
            "Requirement already satisfied: typing-extensions in /usr/local/lib/python3.11/dist-packages (from torch==2.1.0) (4.14.1)\n",
            "Requirement already satisfied: sympy in /usr/local/lib/python3.11/dist-packages (from torch==2.1.0) (1.13.1)\n",
            "Requirement already satisfied: networkx in /usr/local/lib/python3.11/dist-packages (from torch==2.1.0) (3.5)\n",
            "Requirement already satisfied: jinja2 in /usr/local/lib/python3.11/dist-packages (from torch==2.1.0) (3.1.6)\n",
            "Requirement already satisfied: fsspec in /usr/local/lib/python3.11/dist-packages (from torch==2.1.0) (2025.7.0)\n",
            "Collecting triton==2.1.0 (from torch==2.1.0)\n",
            "  Downloading https://download.pytorch.org/whl/triton-2.1.0-0-cp311-cp311-manylinux2014_x86_64.manylinux_2_17_x86_64.whl (89.2 MB)\n",
            "\u001b[2K     \u001b[90m━━━━━━━━━━━━━━━━━━━━━━━━━━━━━━━━━━━━━━━━\u001b[0m \u001b[32m89.2/89.2 MB\u001b[0m \u001b[31m8.7 MB/s\u001b[0m eta \u001b[36m0:00:00\u001b[0m\n",
            "\u001b[?25hRequirement already satisfied: MarkupSafe>=2.0 in /usr/local/lib/python3.11/dist-packages (from jinja2->torch==2.1.0) (3.0.2)\n",
            "Requirement already satisfied: mpmath<1.4,>=1.1.0 in /usr/local/lib/python3.11/dist-packages (from sympy->torch==2.1.0) (1.3.0)\n",
            "Installing collected packages: triton, torch\n",
            "  Attempting uninstall: triton\n",
            "    Found existing installation: triton 3.2.0\n",
            "    Uninstalling triton-3.2.0:\n",
            "      Successfully uninstalled triton-3.2.0\n",
            "\u001b[31mERROR: pip's dependency resolver does not currently take into account all the packages that are installed. This behaviour is the source of the following dependency conflicts.\n",
            "fastai 2.7.19 requires torchvision>=0.11, which is not installed.\n",
            "timm 1.0.17 requires torchvision, which is not installed.\u001b[0m\u001b[31m\n",
            "\u001b[0mSuccessfully installed torch-2.1.0+cu118 triton-2.1.0\n"
          ]
        }
      ]
    },
    {
      "cell_type": "code",
      "source": [
        "!pip install torch-scatter -f https://data.pyg.org/whl/torch-2.1.0+cu118.html"
      ],
      "metadata": {
        "colab": {
          "base_uri": "https://localhost:8080/"
        },
        "id": "UojdFqUx8Esq",
        "outputId": "d1067970-1b8b-4f70-da5f-b9b476113e58"
      },
      "execution_count": 2,
      "outputs": [
        {
          "output_type": "stream",
          "name": "stdout",
          "text": [
            "Looking in links: https://data.pyg.org/whl/torch-2.1.0+cu118.html\n",
            "Collecting torch-scatter\n",
            "  Downloading https://data.pyg.org/whl/torch-2.1.0%2Bcu118/torch_scatter-2.1.2%2Bpt21cu118-cp311-cp311-linux_x86_64.whl (10.2 MB)\n",
            "\u001b[2K     \u001b[90m━━━━━━━━━━━━━━━━━━━━━━━━━━━━━━━━━━━━━━━━\u001b[0m \u001b[32m10.2/10.2 MB\u001b[0m \u001b[31m55.6 MB/s\u001b[0m eta \u001b[36m0:00:00\u001b[0m\n",
            "\u001b[?25hInstalling collected packages: torch-scatter\n",
            "Successfully installed torch-scatter-2.1.2+pt21cu118\n"
          ]
        }
      ]
    },
    {
      "cell_type": "code",
      "source": [
        "# !pip install torch-sparse -f https://data.pyg.org/whl/torch-2.1.0+cu118.html\n",
        "!pip install torch-cluster -f https://data.pyg.org/whl/torch-2.1.0+cu118.html\n",
        "!pip install torch-geometric==2.3.1"
      ],
      "metadata": {
        "collapsed": true,
        "id": "0o_n9hvWG5lY",
        "colab": {
          "base_uri": "https://localhost:8080/"
        },
        "outputId": "fd4565c8-3b24-4f94-f603-e022aaf0bbf0"
      },
      "execution_count": 3,
      "outputs": [
        {
          "output_type": "stream",
          "name": "stdout",
          "text": [
            "Looking in links: https://data.pyg.org/whl/torch-2.1.0+cu118.html\n",
            "Collecting torch-cluster\n",
            "  Downloading https://data.pyg.org/whl/torch-2.1.0%2Bcu118/torch_cluster-1.6.3%2Bpt21cu118-cp311-cp311-linux_x86_64.whl (3.3 MB)\n",
            "\u001b[2K     \u001b[90m━━━━━━━━━━━━━━━━━━━━━━━━━━━━━━━━━━━━━━━━\u001b[0m \u001b[32m3.3/3.3 MB\u001b[0m \u001b[31m32.8 MB/s\u001b[0m eta \u001b[36m0:00:00\u001b[0m\n",
            "\u001b[?25hRequirement already satisfied: scipy in /usr/local/lib/python3.11/dist-packages (from torch-cluster) (1.16.0)\n",
            "Requirement already satisfied: numpy<2.6,>=1.25.2 in /usr/local/lib/python3.11/dist-packages (from scipy->torch-cluster) (1.26.4)\n",
            "Installing collected packages: torch-cluster\n",
            "Successfully installed torch-cluster-1.6.3+pt21cu118\n",
            "Collecting torch-geometric==2.3.1\n",
            "  Downloading torch_geometric-2.3.1.tar.gz (661 kB)\n",
            "\u001b[2K     \u001b[90m━━━━━━━━━━━━━━━━━━━━━━━━━━━━━━━━━━━━━━━\u001b[0m \u001b[32m661.6/661.6 kB\u001b[0m \u001b[31m8.2 MB/s\u001b[0m eta \u001b[36m0:00:00\u001b[0m\n",
            "\u001b[?25h  Installing build dependencies ... \u001b[?25l\u001b[?25hdone\n",
            "  Getting requirements to build wheel ... \u001b[?25l\u001b[?25hdone\n",
            "  Preparing metadata (pyproject.toml) ... \u001b[?25l\u001b[?25hdone\n",
            "Requirement already satisfied: tqdm in /usr/local/lib/python3.11/dist-packages (from torch-geometric==2.3.1) (4.67.1)\n",
            "Requirement already satisfied: numpy in /usr/local/lib/python3.11/dist-packages (from torch-geometric==2.3.1) (1.26.4)\n",
            "Requirement already satisfied: scipy in /usr/local/lib/python3.11/dist-packages (from torch-geometric==2.3.1) (1.16.0)\n",
            "Requirement already satisfied: jinja2 in /usr/local/lib/python3.11/dist-packages (from torch-geometric==2.3.1) (3.1.6)\n",
            "Requirement already satisfied: requests in /usr/local/lib/python3.11/dist-packages (from torch-geometric==2.3.1) (2.32.3)\n",
            "Requirement already satisfied: pyparsing in /usr/local/lib/python3.11/dist-packages (from torch-geometric==2.3.1) (3.2.3)\n",
            "Requirement already satisfied: scikit-learn in /usr/local/lib/python3.11/dist-packages (from torch-geometric==2.3.1) (1.6.1)\n",
            "Requirement already satisfied: psutil>=5.8.0 in /usr/local/lib/python3.11/dist-packages (from torch-geometric==2.3.1) (5.9.5)\n",
            "Requirement already satisfied: MarkupSafe>=2.0 in /usr/local/lib/python3.11/dist-packages (from jinja2->torch-geometric==2.3.1) (3.0.2)\n",
            "Requirement already satisfied: charset-normalizer<4,>=2 in /usr/local/lib/python3.11/dist-packages (from requests->torch-geometric==2.3.1) (3.4.2)\n",
            "Requirement already satisfied: idna<4,>=2.5 in /usr/local/lib/python3.11/dist-packages (from requests->torch-geometric==2.3.1) (3.10)\n",
            "Requirement already satisfied: urllib3<3,>=1.21.1 in /usr/local/lib/python3.11/dist-packages (from requests->torch-geometric==2.3.1) (2.5.0)\n",
            "Requirement already satisfied: certifi>=2017.4.17 in /usr/local/lib/python3.11/dist-packages (from requests->torch-geometric==2.3.1) (2025.7.14)\n",
            "Requirement already satisfied: joblib>=1.2.0 in /usr/local/lib/python3.11/dist-packages (from scikit-learn->torch-geometric==2.3.1) (1.5.1)\n",
            "Requirement already satisfied: threadpoolctl>=3.1.0 in /usr/local/lib/python3.11/dist-packages (from scikit-learn->torch-geometric==2.3.1) (3.6.0)\n",
            "Building wheels for collected packages: torch-geometric\n",
            "  Building wheel for torch-geometric (pyproject.toml) ... \u001b[?25l\u001b[?25hdone\n",
            "  Created wheel for torch-geometric: filename=torch_geometric-2.3.1-py3-none-any.whl size=910496 sha256=174da09d5f16062cc6c721b62fbeb3e0bcf1ec20751df5b27c3dd36ef6dc7066\n",
            "  Stored in directory: /root/.cache/pip/wheels/25/78/6c/9fd091ca1c5e137c66cbd03696ffa14f75e9abc5abfe0dbcc6\n",
            "Successfully built torch-geometric\n",
            "Installing collected packages: torch-geometric\n",
            "Successfully installed torch-geometric-2.3.1\n"
          ]
        }
      ]
    },
    {
      "cell_type": "code",
      "source": [
        "# # PyTorch Geometric (Colab-specific build)\n",
        "# !pip uninstall torch-scatter torch-sparse -y\n",
        "# !pip install torch-scatter -f https://data.pyg.org/whl/torch-2.0.1+cu118.html\n",
        "# !pip install torch-sparse -f https://data.pyg.org/whl/torch-2.0.1+cu118.html"
      ],
      "metadata": {
        "id": "n8mRDKktFewr"
      },
      "execution_count": 4,
      "outputs": []
    },
    {
      "cell_type": "code",
      "source": [
        "import os\n",
        "import subprocess\n",
        "import requests\n",
        "import numpy as np\n",
        "import py3Dmol\n",
        "import torch\n",
        "\n",
        "from Bio.PDB.PDBParser import PDBParser"
      ],
      "metadata": {
        "id": "MbM-Bp8z6MgP"
      },
      "execution_count": 5,
      "outputs": []
    },
    {
      "cell_type": "markdown",
      "source": [
        "## Identify PfEMP1's pockets (functional sites)"
      ],
      "metadata": {
        "id": "gYD7loI_7GKt"
      }
    },
    {
      "cell_type": "code",
      "source": [
        "class FPocketPocketFinder:\n",
        "    def __init__(self, pdb_file, pocket_visualizer=None, base_dir=None, toolkit_dir=None, image_dir=None):\n",
        "        self.pdb_file = pdb_file # Protein file\n",
        "        self.base_dir = base_dir or os.getcwd()\n",
        "        self.toolkit_dir = toolkit_dir or os.getcwd()\n",
        "        self.pocket_visualizer = pocket_visualizer\n",
        "        if self.pocket_visualizer:\n",
        "            self.pocket_visualizer.load_main_protein_structure(self.pdb_file)\n",
        "\n",
        "        self.image_dir = image_dir\n",
        "\n",
        "        self.pdb_prefix = os.path.splitext(os.path.basename(self.pdb_file))[0]\n",
        "        self.pockets_data_dir = os.path.join(self.base_dir, self.pdb_prefix+\"_out\")\n",
        "        self.pockets_dir = os.path.join(self.pockets_data_dir, \"pockets\")\n",
        "        self.pockets_info_path = os.path.join(self.pockets_data_dir, self.pdb_prefix+\"_info.txt\")\n",
        "\n",
        "        self.fpocket_path = os.path.join(self.toolkit_dir, \"fpocket\")\n",
        "        self.fpocket_bin_folder = os.path.join(self.fpocket_path, \"bin\")\n",
        "        self.fpocket_bin = os.path.join(self.fpocket_bin_folder, \"fpocket\")\n",
        "        self.install_fpocket()\n",
        "\n",
        "        self.pockets = {}\n",
        "        self.pocket_data = {}\n",
        "\n",
        "\n",
        "    def install_fpocket(self):\n",
        "        \"\"\"Clones and builds fpocket from GitHub.\"\"\"\n",
        "\n",
        "        if os.path.exists(self.fpocket_path):\n",
        "            print(\"fpocket already cloned.\")\n",
        "        else:\n",
        "            print(\"Cloning fpocket repository...\")\n",
        "            command = [\"git\", \"clone\",\n",
        "                       \"--branch\", \"4.2.2\",\n",
        "                       \"--depth\", \"1\",\n",
        "                       \"https://github.com/Discngine/fpocket.git\",]\n",
        "            subprocess.run(command, cwd=self.toolkit_dir, check=True)\n",
        "\n",
        "        print(\"Building fpocket...\")\n",
        "        subprocess.run([\"make\"], cwd=self.fpocket_path, check=True)\n",
        "\n",
        "        ## Add fpocket binary to PATH\n",
        "        ## fpocket_bin_folder = os.path.abspath(f\"{fpocket_path}/bin\")\n",
        "        # os.environ[\"PATH\"] += os.pathsep + self.fpocket_bin_folder\n",
        "        # print(f\"fpocket installed and added to PATH: {self.fpocket_bin_folder}\")\n",
        "\n",
        "\n",
        "    def find_pockets(self):\n",
        "        \"\"\"Runs fpocket on the given PDB file.\"\"\"\n",
        "\n",
        "        pdb_file = self.pdb_file\n",
        "\n",
        "        print(f\"Running fpocket on {pdb_file}...\")\n",
        "        command = [self.fpocket_bin, \"-f\", pdb_file]\n",
        "        result = subprocess.run(command, capture_output=True, text=True)\n",
        "\n",
        "        if result.returncode == 0:\n",
        "            print(\"fpocket finished successfully.\")\n",
        "            return self.list_pockets()\n",
        "        else:\n",
        "            print(\"fpocket failed:\")\n",
        "            print(result.stderr)\n",
        "            return []\n",
        "\n",
        "\n",
        "    def list_pockets(self):\n",
        "        \"\"\"Lists the pockets found for the given PDB file.\"\"\"\n",
        "\n",
        "        pockets_dir = self.pockets_dir\n",
        "\n",
        "        if not os.path.exists(pockets_dir):\n",
        "            print(\"Pocket directory not found.\")\n",
        "            return []\n",
        "\n",
        "        self.pockets = sorted(\n",
        "            [f for f in os.listdir(pockets_dir) if f.endswith('_atm.pdb')])\n",
        "\n",
        "        return self.pockets\n",
        "\n",
        "\n",
        "    def get_pocket_center(self, pocket_pdb_path):\n",
        "        \"\"\"Returns the center of the given pocket.\"\"\"\n",
        "\n",
        "        parser = PDBParser(QUIET=True)\n",
        "        structure = parser.get_structure(\"pocket\", pocket_pdb_path)\n",
        "\n",
        "        if not structure:\n",
        "            raise ValueError(\"No structure found in pocket file.\")\n",
        "\n",
        "        coords = []\n",
        "        for atom in structure.get_atoms():\n",
        "            coords.append(atom.coord)\n",
        "\n",
        "        if not coords:\n",
        "            raise ValueError(\"No atoms found in pocket file.\")\n",
        "\n",
        "        center = np.mean(coords, axis=0)\n",
        "        return tuple(center)\n",
        "\n",
        "\n",
        "    def get_pocket_residues(self, pocket_pdb_path):\n",
        "        \"\"\"Returns the residues in the given pocket.\"\"\"\n",
        "\n",
        "        parser = PDBParser(QUIET=True)\n",
        "        structure = parser.get_structure(\"pocket\", pocket_pdb_path)\n",
        "\n",
        "        if not structure:\n",
        "            raise ValueError(\"No structure found in pocket file.\")\n",
        "\n",
        "        residues = []\n",
        "        for model in structure:\n",
        "            for chain in model:\n",
        "                for residue in chain:\n",
        "                    res_id = residue.get_id()\n",
        "                    res_name = residue.get_resname()\n",
        "                    residues.append((res_name, res_id[1]))\n",
        "        return residues\n",
        "\n",
        "\n",
        "    def get_all_pockets_data(self):\n",
        "        \"\"\"Returns the data for all pockets.\"\"\"\n",
        "\n",
        "        pockets_dir = self.pockets_dir\n",
        "\n",
        "        if not os.path.exists(pockets_dir):\n",
        "            raise FileNotFoundError(f\"Directory not found: {pockets_dir}\")\n",
        "\n",
        "        pocket_data = {}\n",
        "\n",
        "        for pocket_file in self.pockets:\n",
        "            pocket_path = os.path.join(pockets_dir, pocket_file)\n",
        "            with open(pocket_path, 'r') as f:\n",
        "                pdb_content = f.read()\n",
        "                pocket_data[pocket_file] = pdb_content\n",
        "\n",
        "        self.pocket_data = pocket_data\n",
        "\n",
        "        return pocket_data\n",
        "\n",
        "\n",
        "    def visualize_all_pockets(self):\n",
        "        \"\"\"Visualizes all pockets.\"\"\"\n",
        "\n",
        "        if not self.pocket_visualizer:\n",
        "            raise ValueError(\"PocketVisualizer not set.\")\n",
        "\n",
        "        for i, (pocket_name, pocket_pdb) in enumerate(self.pocket_data.items()):\n",
        "            print(f\"Pocket {i+1}: {pocket_name}\")\n",
        "            self.pocket_visualizer.visualize_pocket(pocket_pdb)\n",
        "\n",
        "\n",
        "    def save_all_pockets_image_as_html(self):\n",
        "        \"\"\"Visualizes all pockets.\"\"\"\n",
        "\n",
        "        if not self.pocket_visualizer:\n",
        "            raise ValueError(\"PocketVisualizer not set.\")\n",
        "\n",
        "        image_dir = self.image_dir\n",
        "\n",
        "        for i, (pocket_name, pocket_pdb) in enumerate(self.pocket_data.items()):\n",
        "            view = self.pocket_visualizer.build_pocket_view(pocket_pdb)\n",
        "            image_name = pocket_name.replace(\".pdb\", \".html\")\n",
        "            image_path = os.path.join(image_dir, image_name)\n",
        "\n",
        "            self.pocket_visualizer.save_pocket_3d_image_to_html(view, image_path)"
      ],
      "metadata": {
        "id": "Pc6JiG0yojel"
      },
      "execution_count": 6,
      "outputs": []
    },
    {
      "cell_type": "code",
      "source": [
        "class Py3DMolPocketVisualizer:\n",
        "    def __init__(self, pdb_file=None):\n",
        "        self.pdb_file = pdb_file\n",
        "\n",
        "\n",
        "    def load_main_protein_structure(self, pdb_file):\n",
        "        \"\"\"Loads the protein structure from the given PDB file.\"\"\"\n",
        "\n",
        "        self.pdb_file = pdb_file\n",
        "\n",
        "\n",
        "    def build_pocket_view(self, pocket_pdb):\n",
        "        \"\"\"Builds a py3Dmol view for the given pocket.\"\"\"\n",
        "\n",
        "        if not self.pdb_file:\n",
        "            raise ValueError(\"PDB file not set.\")\n",
        "\n",
        "        with open(self.pdb_file, 'r') as f:\n",
        "            protein_pdb = f.read()\n",
        "\n",
        "        view = py3Dmol.view(width=500, height=300)\n",
        "\n",
        "        view.addModel(protein_pdb, 'pdb')\n",
        "        view.setStyle({'model': 0}, {'cartoon': {'color': 'spectrum'}})\n",
        "\n",
        "        view.addModel(pocket_pdb, 'pdb')\n",
        "        view.setStyle({'model': 1}, {'stick': {'colorscheme': 'orangeCarbon'}})\n",
        "        view.addSurface(py3Dmol.VDW, {'opacity': 0.8, 'color': 'orange'}, {'model': 1})\n",
        "\n",
        "        return view\n",
        "\n",
        "\n",
        "    def visualize_pocket(self, pocket_pdb):\n",
        "        \"\"\"Visualizes a single pocket.\"\"\"\n",
        "\n",
        "        view = self.build_pocket_view(pocket_pdb)\n",
        "\n",
        "        view.zoomTo()\n",
        "        view.show()\n",
        "\n",
        "\n",
        "    def save_pocket_3d_image_to_html(self, view, output_file='structure.html'):\n",
        "        html_str = view._make_html()\n",
        "        with open(output_file, 'w') as f:\n",
        "            f.write(html_str)"
      ],
      "metadata": {
        "id": "nQX6_q36pBLa"
      },
      "execution_count": 7,
      "outputs": []
    },
    {
      "cell_type": "code",
      "execution_count": 8,
      "metadata": {
        "id": "DMg5cdb5qmVO"
      },
      "outputs": [],
      "source": [
        "class AlphaFoldService:\n",
        "    def download_protein_structure(self, uniprot_id, output_path):\n",
        "        url = f\"https://alphafold.ebi.ac.uk/files/AF-{uniprot_id}-F1-model_v4.pdb\"\n",
        "        response = requests.get(url)\n",
        "        if response.status_code == 200:\n",
        "            with open(output_path, 'wb') as f:\n",
        "                f.write(response.content)\n",
        "            print(f\"Downloaded AlphaFold structure: {output_path}\")\n",
        "        else:\n",
        "            raise Exception(\"Failed to download structure: \" + response.reason)"
      ]
    },
    {
      "cell_type": "code",
      "source": [
        "base_dir = \"/content/\" # Modify this according to the environment (Colab, Kaggle, Personal Jupyter Notebook, ...)"
      ],
      "metadata": {
        "id": "LU90SyczR4wW"
      },
      "execution_count": 9,
      "outputs": []
    },
    {
      "cell_type": "code",
      "source": [
        "output_dir = os.path.join(base_dir, \"output\")\n",
        "os.makedirs(output_dir, exist_ok=True)\n",
        "\n",
        "toolkit_dir = os.path.join(base_dir, \"toolkit\")\n",
        "os.makedirs(toolkit_dir, exist_ok=True)\n",
        "\n",
        "config_dir = os.path.join(base_dir, \"config\")\n",
        "os.makedirs(config_dir, exist_ok=True)"
      ],
      "metadata": {
        "id": "xlj7bSKmEVfR"
      },
      "execution_count": 10,
      "outputs": []
    },
    {
      "cell_type": "code",
      "source": [
        "# Search protein id on AlphaFold's website: https://alphafold.ebi.ac.uk\n",
        "uniprot_id = \"Q8I3Y6\""
      ],
      "metadata": {
        "id": "2AXZCEE77N7T"
      },
      "execution_count": 11,
      "outputs": []
    },
    {
      "cell_type": "code",
      "source": [
        "pdb_file_name = \"PfEMP1.pdb\""
      ],
      "metadata": {
        "id": "UDn_M3eI8x6E"
      },
      "execution_count": 12,
      "outputs": []
    },
    {
      "cell_type": "code",
      "source": [
        "# Create folder for the specific protein. This folder will have all the\n",
        "# generated output related to this protein: protein file, pockets, ligands.\n",
        "pdb_prefix = os.path.splitext(os.path.basename(pdb_file_name))[0]\n",
        "pdb_dir = os.path.join(output_dir, pdb_prefix)\n",
        "os.makedirs(pdb_dir, exist_ok=True)\n",
        "pdb_file = os.path.join(pdb_dir, pdb_file_name)\n",
        "\n",
        "image_dir = os.path.join(pdb_dir, \"images\")\n",
        "os.makedirs(image_dir, exist_ok=True)\n",
        "\n",
        "ligands_dir = os.path.join(pdb_dir, \"ligands\")\n",
        "os.makedirs(ligands_dir, exist_ok=True)"
      ],
      "metadata": {
        "id": "o6DZzmcR7QaH"
      },
      "execution_count": 13,
      "outputs": []
    },
    {
      "cell_type": "code",
      "source": [
        "alpha_fold = AlphaFoldService()\n",
        "alpha_fold.download_protein_structure(uniprot_id, pdb_file)"
      ],
      "metadata": {
        "colab": {
          "base_uri": "https://localhost:8080/"
        },
        "id": "gNZRu-MT-21b",
        "outputId": "16c430b9-5448-433b-bd9f-ca833964eff3"
      },
      "execution_count": 14,
      "outputs": [
        {
          "output_type": "stream",
          "name": "stdout",
          "text": [
            "Downloaded AlphaFold structure: /content/output/PfEMP1/PfEMP1.pdb\n"
          ]
        }
      ]
    },
    {
      "cell_type": "code",
      "source": [
        "pocket_visualizer = Py3DMolPocketVisualizer()"
      ],
      "metadata": {
        "id": "8TInTo25pXvj"
      },
      "execution_count": 15,
      "outputs": []
    },
    {
      "cell_type": "code",
      "source": [
        "pocket_finder = FPocketPocketFinder(pdb_file, pocket_visualizer, pdb_dir, toolkit_dir, image_dir)"
      ],
      "metadata": {
        "id": "foqDT_yNTaWe",
        "colab": {
          "base_uri": "https://localhost:8080/"
        },
        "outputId": "517fec73-14c4-4bed-9a58-5d32f62f88c6"
      },
      "execution_count": 16,
      "outputs": [
        {
          "output_type": "stream",
          "name": "stdout",
          "text": [
            "Cloning fpocket repository...\n",
            "Building fpocket...\n"
          ]
        }
      ]
    },
    {
      "cell_type": "code",
      "source": [
        "pockets = pocket_finder.find_pockets()"
      ],
      "metadata": {
        "colab": {
          "base_uri": "https://localhost:8080/"
        },
        "id": "wQOwevXBTrsb",
        "outputId": "8eb118b7-7aa7-47ba-9a0e-a8712deffd26"
      },
      "execution_count": 17,
      "outputs": [
        {
          "output_type": "stream",
          "name": "stdout",
          "text": [
            "Running fpocket on /content/output/PfEMP1/PfEMP1.pdb...\n",
            "fpocket finished successfully.\n"
          ]
        }
      ]
    },
    {
      "cell_type": "code",
      "source": [
        "print(f\"Found {len(pockets)} pockets.\")\n",
        "\n",
        "for index, pocket in enumerate(pockets):\n",
        "    print(f\"Pocket {index+1}: {pocket}\")"
      ],
      "metadata": {
        "colab": {
          "base_uri": "https://localhost:8080/"
        },
        "id": "YUc2QAwW-5C_",
        "outputId": "21079b02-9dce-48fe-f04a-b53942803c13"
      },
      "execution_count": 18,
      "outputs": [
        {
          "output_type": "stream",
          "name": "stdout",
          "text": [
            "Found 4 pockets.\n",
            "Pocket 1: pocket1_atm.pdb\n",
            "Pocket 2: pocket2_atm.pdb\n",
            "Pocket 3: pocket3_atm.pdb\n",
            "Pocket 4: pocket4_atm.pdb\n"
          ]
        }
      ]
    },
    {
      "cell_type": "code",
      "source": [
        "pockets_data = pocket_finder.get_all_pockets_data()"
      ],
      "metadata": {
        "id": "7iuZuJVP5rWE"
      },
      "execution_count": 19,
      "outputs": []
    },
    {
      "cell_type": "code",
      "source": [
        "pocket_centers = {}\n",
        "\n",
        "for pocket_file in pockets:\n",
        "    pocket_full_path = os.path.join(pocket_finder.pockets_dir, pocket_file)\n",
        "    center = pocket_finder.get_pocket_center(pocket_full_path)\n",
        "    print(f\"Pocket {pocket_file} center: {center}\")\n",
        "    pocket_centers[pocket_file] = center"
      ],
      "metadata": {
        "colab": {
          "base_uri": "https://localhost:8080/"
        },
        "id": "DwUiAWRH5s60",
        "outputId": "02f416cd-00a2-4c8a-be89-7c13150489d8"
      },
      "execution_count": 20,
      "outputs": [
        {
          "output_type": "stream",
          "name": "stdout",
          "text": [
            "Pocket pocket1_atm.pdb center: (-18.919567, -2.989, 13.69187)\n",
            "Pocket pocket2_atm.pdb center: (10.693321, 2.3687997, -23.15884)\n",
            "Pocket pocket3_atm.pdb center: (12.2715225, 3.3361301, -13.966915)\n",
            "Pocket pocket4_atm.pdb center: (18.172617, 3.806857, -20.537235)\n"
          ]
        }
      ]
    },
    {
      "cell_type": "code",
      "source": [
        "for pocket_file in pockets:\n",
        "    pocket_full_path = os.path.join(pocket_finder.pockets_dir, pocket_file)\n",
        "    residues = pocket_finder.get_pocket_residues(pocket_full_path)\n",
        "    print(f\"Pocket {pocket_file} has {len(residues)} residues. Sample:\", residues)"
      ],
      "metadata": {
        "colab": {
          "base_uri": "https://localhost:8080/"
        },
        "id": "pB8nOT5c6zkv",
        "outputId": "eaaea2a1-a624-44a1-bb0b-a0ecaf95e463"
      },
      "execution_count": 21,
      "outputs": [
        {
          "output_type": "stream",
          "name": "stdout",
          "text": [
            "Pocket pocket1_atm.pdb has 7 residues. Sample: [('LYS', 97), ('LEU', 101), ('LYS', 100), ('ALA', 15), ('LEU', 16), ('SER', 19), ('ASP', 12)]\n",
            "Pocket pocket2_atm.pdb has 6 residues. Sample: [('SER', 67), ('ASP', 49), ('GLU', 65), ('LYS', 66), ('TYR', 70), ('ASP', 71)]\n",
            "Pocket pocket3_atm.pdb has 9 residues. Sample: [('LEU', 40), ('HIS', 54), ('CYS', 69), ('LEU', 53), ('GLU', 64), ('LYS', 55), ('VAL', 44), ('THR', 72), ('ILE', 73)]\n",
            "Pocket pocket4_atm.pdb has 8 residues. Sample: [('LYS', 63), ('GLU', 65), ('GLU', 64), ('ASP', 49), ('SER', 51), ('ASP', 50), ('VAL', 52), ('LEU', 53)]\n"
          ]
        }
      ]
    },
    {
      "cell_type": "code",
      "source": [
        "# pocket_finder.visualize_all_pockets()"
      ],
      "metadata": {
        "id": "PZxpqmUYIqz3",
        "collapsed": true
      },
      "execution_count": 22,
      "outputs": []
    },
    {
      "cell_type": "code",
      "source": [
        "pocket_finder.save_all_pockets_image_as_html()"
      ],
      "metadata": {
        "id": "6zyoe5bHrQVg"
      },
      "execution_count": 23,
      "outputs": []
    },
    {
      "cell_type": "markdown",
      "source": [
        "## 2. Generate ligands"
      ],
      "metadata": {
        "id": "wKYSx6bm_tsu"
      }
    },
    {
      "cell_type": "code",
      "source": [
        "# import torch\n",
        "# print(f\"torch version {torch.__version__}\")\n",
        "# !pip install torch-cluster -f https://data.pyg.org/whl/torch-{torch.__version__}.html --quiet\n",
        "# !pip install torch-scatter -f https://data.pyg.org/whl/torch-{torch.__version__}.html --quiet\n",
        "# !pip install git+https://github.com/pyg-team/pytorch_geometric.git  --quiet"
      ],
      "metadata": {
        "id": "KOuljejMS2aN"
      },
      "execution_count": 24,
      "outputs": []
    },
    {
      "cell_type": "markdown",
      "source": [
        "#### Install Pocket2Mol"
      ],
      "metadata": {
        "id": "fpvW0fRXBLrT"
      }
    },
    {
      "cell_type": "code",
      "source": [
        "# !git clone https://github.com/pengxingang/Pocket2Mol --depth 1"
      ],
      "metadata": {
        "id": "JUEqPzI8BO79"
      },
      "execution_count": 25,
      "outputs": []
    },
    {
      "cell_type": "code",
      "source": [
        "# %cd /content/Pocket2Mol/data\n",
        "# !test -f crossdocked_pocket10.tar.gz || gdown 10KGuj15mxOJ2FBsduun2Lggzx0yPreEU && tar -xzf crossdocked_pocket10.tar.gz\n",
        "# !test -f split_by_name.pt || gdown 1mycOKpphVBQjxEbpn1AwdpQs8tNVbxKY\n",
        "# !ls -l"
      ],
      "metadata": {
        "id": "dmVIsYEzBRlp"
      },
      "execution_count": 26,
      "outputs": []
    },
    {
      "cell_type": "code",
      "source": [
        "# %cd /content/Pocket2Mol/ckpt\n",
        "# !test -f pretrained_Pocket2Mol.pt || gdown 1WaoEj9RDG4VEcyHEmgsjbh958txm1W6x\n",
        "# !ls -l"
      ],
      "metadata": {
        "id": "i_Yk8cZ1BUK_"
      },
      "execution_count": 27,
      "outputs": []
    },
    {
      "cell_type": "code",
      "source": [
        "# # Clone repo and move in\n",
        "# !git clone https://github.com/pengxingang/Pocket2Mol.git\n",
        "# %cd Pocket2Mol\n",
        "\n",
        "# # Install base dependencies\n",
        "# !pip install -r requirements.txt\n",
        "\n",
        "# # Install PyTorch Geometric (Colab-friendly)\n",
        "# !pip install torch-scatter -f https://data.pyg.org/whl/torch-2.0.1+cu118.html\n",
        "# !pip install torch-sparse -f https://data.pyg.org/whl/torch-2.0.1+cu118.html\n",
        "\n",
        "# # Download checkpoint\n",
        "# !gdown 1sK4LjgDNZ0TWK1gRjFePYGi9m9oy6iyd -O ckpt/pocket2mol.pth\n"
      ],
      "metadata": {
        "id": "fr6SGYSK_s87"
      },
      "execution_count": 28,
      "outputs": []
    },
    {
      "cell_type": "markdown",
      "source": [
        "This is the custom config for Pocket2Mol. Save this in a file named `pocket2mol_config.yml` and upload it to Colab or add it to the Jupyter Notebook.\n",
        "\n",
        "```yml\n",
        "model:\n",
        "    checkpoint: ./ckpt/pretrained_Pocket2Mol.pt\n",
        "\n",
        "sample:\n",
        "  seed: 2020\n",
        "  num_samples: 10 # Adjust the number of samples to be generated. A big number will also increase the time of generation.\n",
        "  beam_size: 300\n",
        "  max_steps: 50\n",
        "  threshold:\n",
        "    focal_threshold: 0.5\n",
        "    pos_threshold: 0.25\n",
        "    element_threshold: 0.3\n",
        "    hasatom_threshold: 0.6\n",
        "    bond_threshold: 0.4\n",
        "```"
      ],
      "metadata": {
        "id": "SYccMhB_icWj"
      }
    },
    {
      "cell_type": "code",
      "source": [
        "!pip install rdkit\n",
        "# !pip install pyyaml\n",
        "!pip install biopython"
      ],
      "metadata": {
        "colab": {
          "base_uri": "https://localhost:8080/"
        },
        "collapsed": true,
        "id": "Ew8SKZN4-XO_",
        "outputId": "d217e222-5186-419f-ca6f-8a89c5a86dd8"
      },
      "execution_count": 29,
      "outputs": [
        {
          "output_type": "stream",
          "name": "stdout",
          "text": [
            "Collecting rdkit\n",
            "  Downloading rdkit-2025.3.3-cp311-cp311-manylinux_2_28_x86_64.whl.metadata (4.0 kB)\n",
            "Requirement already satisfied: numpy in /usr/local/lib/python3.11/dist-packages (from rdkit) (1.26.4)\n",
            "Requirement already satisfied: Pillow in /usr/local/lib/python3.11/dist-packages (from rdkit) (11.3.0)\n",
            "Downloading rdkit-2025.3.3-cp311-cp311-manylinux_2_28_x86_64.whl (34.9 MB)\n",
            "\u001b[2K   \u001b[90m━━━━━━━━━━━━━━━━━━━━━━━━━━━━━━━━━━━━━━━━\u001b[0m \u001b[32m34.9/34.9 MB\u001b[0m \u001b[31m24.9 MB/s\u001b[0m eta \u001b[36m0:00:00\u001b[0m\n",
            "\u001b[?25hInstalling collected packages: rdkit\n",
            "Successfully installed rdkit-2025.3.3\n",
            "Requirement already satisfied: biopython in /usr/local/lib/python3.11/dist-packages (1.85)\n",
            "Requirement already satisfied: numpy in /usr/local/lib/python3.11/dist-packages (from biopython) (1.26.4)\n"
          ]
        }
      ]
    },
    {
      "cell_type": "code",
      "source": [
        "# !pip install torch-geometric==2.3.1"
      ],
      "metadata": {
        "collapsed": true,
        "id": "Y_Dw02rYlshv"
      },
      "execution_count": 30,
      "outputs": []
    },
    {
      "cell_type": "code",
      "source": [
        "# pip install torch==1.13.1 --extra-index-url https://download.pytorch.org/whl/cu113"
      ],
      "metadata": {
        "id": "-lpbLD7ktDHl"
      },
      "execution_count": 31,
      "outputs": []
    },
    {
      "cell_type": "code",
      "source": [
        "# import torch\n",
        "# print(torch.__version__)"
      ],
      "metadata": {
        "id": "UZhTKpj-oz3n"
      },
      "execution_count": 32,
      "outputs": []
    },
    {
      "cell_type": "code",
      "source": [
        "# !pip uninstall -y torch-scatter\n",
        "# !pip install torch-scatter -f https://data.pyg.org/whl/torch-{torch.__version__}.html"
      ],
      "metadata": {
        "collapsed": true,
        "id": "I0HlonX-mA-D"
      },
      "execution_count": 33,
      "outputs": []
    },
    {
      "cell_type": "code",
      "source": [
        "!pip install lmdb"
      ],
      "metadata": {
        "colab": {
          "base_uri": "https://localhost:8080/"
        },
        "id": "i5PBb8FGrc_F",
        "outputId": "a528a808-f901-4e55-d763-e367701d1f2b"
      },
      "execution_count": 34,
      "outputs": [
        {
          "output_type": "stream",
          "name": "stdout",
          "text": [
            "Collecting lmdb\n",
            "  Downloading lmdb-1.7.2-cp311-cp311-manylinux_2_17_x86_64.manylinux2014_x86_64.whl.metadata (1.3 kB)\n",
            "Downloading lmdb-1.7.2-cp311-cp311-manylinux_2_17_x86_64.manylinux2014_x86_64.whl (299 kB)\n",
            "\u001b[2K   \u001b[90m━━━━━━━━━━━━━━━━━━━━━━━━━━━━━━━━━━━━━━━━\u001b[0m \u001b[32m299.6/299.6 kB\u001b[0m \u001b[31m4.2 MB/s\u001b[0m eta \u001b[36m0:00:00\u001b[0m\n",
            "\u001b[?25hInstalling collected packages: lmdb\n",
            "Successfully installed lmdb-1.7.2\n"
          ]
        }
      ]
    },
    {
      "cell_type": "code",
      "source": [
        "import yaml\n",
        "import os\n",
        "from rdkit import Chem\n",
        "from rdkit.Chem import AllChem, Descriptors, QED\n",
        "\n",
        "class Pocket2MolLigandGenerator:\n",
        "    def __init__(self, pdb_file, output_dir=None, config_dir=None, toolkit_dir=None, ligands_dir=None):\n",
        "        self.pdb_file = pdb_file\n",
        "        self.toolkit_dir = toolkit_dir or os.getcwd()\n",
        "        self.output_dir = output_dir or os.getcwd()\n",
        "        self.config_dir = config_dir or os.getcwd()\n",
        "        self.ligands_dir = ligands_dir or os.getcwd()\n",
        "\n",
        "        pocket2mol_config = {\n",
        "            \"model\": {\"checkpoint\": \"./ckpt/pretrained_Pocket2Mol.pt\"},\n",
        "            \"sample\":\n",
        "                {\"seed\": 2020,\n",
        "                 \"num_samples\": 6, # Adjust the number of samples to be generated. A big number will also increase the time of generation.\n",
        "                 \"beam_size\": 300,\n",
        "                 \"max_steps\": 50,\n",
        "                 \"threshold\": {\"focal_threshold\": 0.5, \"pos_threshold\": 0.25,\n",
        "                               \"element_threshold\": 0.3, \"hasatom_threshold\": 0.6,\n",
        "                               \"bond_threshold\": 0.4}\n",
        "                }\n",
        "        }\n",
        "\n",
        "        self.config_path = os.path.join(self.config_dir, \"pocket2mol_config.yml\")\n",
        "\n",
        "        with open(self.config_path, \"w\") as f:\n",
        "            yaml.dump(pocket2mol_config, f, default_flow_style=False, sort_keys=False)\n",
        "\n",
        "        self.pocket2mol_path = os.path.join(self.toolkit_dir, \"Pocket2Mol\")\n",
        "        self.pocket2mol_model_dir = os.path.join(self.pocket2mol_path, \"ckpt\")\n",
        "        self.pocket2mol_model = os.path.join(self.pocket2mol_model_dir, \"pretrained_Pocket2Mol.pt\")\n",
        "\n",
        "        self.install_pocket2mol()\n",
        "\n",
        "\n",
        "    def install_pocket2mol(self):\n",
        "        \"\"\"Clones and builds Pocket2Mol from GitHub.\"\"\"\n",
        "\n",
        "        # Pocket2Mol repo does not have any tag, so we clone based on a commit\n",
        "        # hash. This is important so that, if the package is updated with\n",
        "        # breaking changes, it does not affect this code.\n",
        "        repo_url = \"https://github.com/pengxingang/Pocket2Mol.git\"\n",
        "        commit_hash = \"836a0c4ce487297ad24bc54ac2ebd163de13242c\"\n",
        "        repo_path = self.pocket2mol_path\n",
        "\n",
        "        if os.path.exists(repo_path):\n",
        "            print(\"Pocket2Mol already cloned.\")\n",
        "            return\n",
        "\n",
        "        print(\"Cloning Pocket2Mol repo...\")\n",
        "        subprocess.run([\"git\", \"clone\", \"--depth\", \"1\", repo_url], cwd=self.toolkit_dir, check=True)\n",
        "\n",
        "        print(f\"Fetching and checking out commit {commit_hash}...\")\n",
        "        subprocess.run([\"git\", \"fetch\", \"--depth\", \"1\", \"origin\", commit_hash], cwd=repo_path, check=True)\n",
        "        subprocess.run([\"git\", \"checkout\", commit_hash], cwd=repo_path, check=True)\n",
        "\n",
        "        gdrive_id = \"1WaoEj9RDG4VEcyHEmgsjbh958txm1W6x\"\n",
        "\n",
        "        if not os.path.isfile(self.pocket2mol_model):\n",
        "            print(f\"Downloading model file {self.pocket2mol_model}...\")\n",
        "            subprocess.run([\"gdown\", gdrive_id], cwd=self.pocket2mol_model_dir, check=True)\n",
        "        else:\n",
        "            print(f\"Model file already exists: {self.pocket2mol_model}\")\n",
        "\n",
        "        print(f\"Pocket2Mol installed.\")\n",
        "\n",
        "\n",
        "    def generate_ligands(self, pocket_center, pocket_prefix):\n",
        "        \"\"\"Generates ligands for the given pocket center.\"\"\"\n",
        "\n",
        "        smiles_output_dir = os.path.join(self.ligands_dir, pocket_prefix)\n",
        "        os.makedirs(smiles_output_dir, exist_ok=True)\n",
        "\n",
        "        self.generate_smiles(pocket_center, smiles_output_dir)\n",
        "        smiles_path = self.get_latest_smiles_file(smiles_output_dir)\n",
        "        smiles = self.filter_smiles(smiles_path)\n",
        "\n",
        "        ligand_paths = []\n",
        "\n",
        "        for smi, _, _ in smiles:\n",
        "            ligand_path = os.path.join(smiles_output_dir, f\"{smi}.sdf\")\n",
        "            self.smiles_to_sdf(smi, ligand_path)\n",
        "            ligand_paths.append(ligand_path)\n",
        "\n",
        "        return {\n",
        "            \"smiles\": smiles,\n",
        "            \"ligand_paths\": ligand_paths\n",
        "        }\n",
        "\n",
        "\n",
        "    def generate_smiles(self, pocket_center, output_dir):\n",
        "        \"\"\"Generates SMILES for the given pocket center.\"\"\"\n",
        "\n",
        "        center_str = \",\".join(f\"{c:.2f}\" for c in pocket_center)\n",
        "        print(f\"Pocket center: {center_str}\")\n",
        "\n",
        "        command = [\n",
        "            \"python\", os.path.join(self.pocket2mol_path, \"sample_for_pdb.py\"),\n",
        "            \"--pdb_path\", self.pdb_file,\n",
        "            \"--center\", \" \" + center_str,\n",
        "            \"--outdir\", output_dir,\n",
        "            \"--config\", self.config_path\n",
        "        ]\n",
        "\n",
        "        print(\"Running Pocket2Mol...\")\n",
        "        result = subprocess.run(command, cwd=self.pocket2mol_path, capture_output=True, text=True)\n",
        "\n",
        "        if result.returncode == 0:\n",
        "            print(\"Pocket2Mol completed successfully.\")\n",
        "            return result\n",
        "        else:\n",
        "            print(\"Pocket2Mol failed:\")\n",
        "            print(result.stderr)\n",
        "\n",
        "\n",
        "    def get_latest_smiles_file(self, output_dir):\n",
        "        \"\"\"Find the newest timestamped directory.\"\"\"\n",
        "\n",
        "        subdirs = [\n",
        "            os.path.join(output_dir, d)\n",
        "            for d in os.listdir(output_dir)\n",
        "            if os.path.isdir(os.path.join(output_dir, d))\n",
        "        ]\n",
        "\n",
        "        if not subdirs:\n",
        "            raise FileNotFoundError(f\"No output folders found in {output_dir}\")\n",
        "\n",
        "        latest_dir = max(subdirs, key=os.path.getmtime)\n",
        "        smiles_path = os.path.join(latest_dir, \"SMILES.txt\")\n",
        "\n",
        "        if not os.path.exists(smiles_path):\n",
        "            raise FileNotFoundError(f\"SMILES.txt not found in {latest_dir}\")\n",
        "\n",
        "        return smiles_path\n",
        "\n",
        "\n",
        "    def filter_smiles(self, file_path, top_n=5):\n",
        "        \"\"\"Filters SMILES based on QED, MW, and Lipinski rules.\"\"\"\n",
        "\n",
        "        with open(file_path) as f:\n",
        "            smiles_list = [line.strip() for line in f if line.strip()]\n",
        "\n",
        "        filtered = []\n",
        "\n",
        "        for smi in smiles_list:\n",
        "            mol = Chem.MolFromSmiles(smi)\n",
        "            if not mol:\n",
        "                continue\n",
        "\n",
        "            mw = Descriptors.MolWt(mol)\n",
        "            qed = QED.qed(mol)\n",
        "            hba = Descriptors.NumHAcceptors(mol)\n",
        "            hbd = Descriptors.NumHDonors(mol)\n",
        "            logp = Descriptors.MolLogP(mol)\n",
        "\n",
        "            lipinski = (hba <= 10) and (hbd <= 5) and (logp <= 5)\n",
        "            if 100 < mw <= 600 and qed >= 0.4 and lipinski:\n",
        "                filtered.append((smi, qed, mw))\n",
        "\n",
        "        # Sort by QED score\n",
        "        filtered.sort(key=lambda x: x[1], reverse=True)\n",
        "\n",
        "        top_filtered = filtered[:top_n]\n",
        "        print(f\"Selected top {len(top_filtered)} ligands:\")\n",
        "        for smi, qed, mw in top_filtered:\n",
        "            print(f\"{smi} | QED: {qed:.2f} | MW: {mw:.2f}\")\n",
        "\n",
        "        return top_filtered\n",
        "\n",
        "\n",
        "    def smiles_to_sdf(smiles, sdf_path=\"molecule.sdf\"):\n",
        "        mol = Chem.MolFromSmiles(smiles)\n",
        "        mol = Chem.AddHs(mol)  # Add hydrogens\n",
        "        AllChem.EmbedMolecule(mol, AllChem.ETKDG())  # Generate 3D coordinates\n",
        "        AllChem.UFFOptimizeMolecule(mol)  # Optional: minimize energy\n",
        "        writer = Chem.SDWriter(sdf_path)\n",
        "        writer.write(mol)\n",
        "        writer.close()\n",
        "\n",
        "        print(f\"Saved SDF to: {sdf_path}\")\n",
        "\n",
        "        return sdf_path\n",
        "\n",
        "\n",
        "    def compute_molecule_coordinates(sdf_path):\n",
        "        # Load the molecule from an SDF file\n",
        "        supplier = Chem.SDMolSupplier(sdf_path, removeHs=False)\n",
        "        mol = supplier[0]  # First molecule in the file\n",
        "\n",
        "        if mol is None:\n",
        "            raise ValueError(\"Could not read molecule from SDF. Check the file format.\")\n",
        "\n",
        "        # Generate 3D coordinates if not already present\n",
        "        if not mol.GetConformer().Is3D():\n",
        "            AllChem.EmbedMolecule(mol, AllChem.ETKDG())\n",
        "            AllChem.MMFFOptimizeMolecule(mol)\n",
        "\n",
        "        # Extract coordinates and format them\n",
        "        conf = mol.GetConformer()\n",
        "        coords = []\n",
        "\n",
        "        for i in range(mol.GetNumAtoms()):\n",
        "            atom = mol.GetAtomWithIdx(i)\n",
        "            pos = conf.GetAtomPosition(i)\n",
        "            coords.append(f\"{atom.GetSymbol()} {pos.x:.6f} {pos.y:.6f} {pos.z:.6f}\")\n",
        "\n",
        "        formatted_coords = \"; \".join(coords)\n",
        "\n",
        "        return formatted_coords\n"
      ],
      "metadata": {
        "id": "mxqnVqF9Xr29"
      },
      "execution_count": 35,
      "outputs": []
    },
    {
      "cell_type": "code",
      "source": [
        "ligand_generator = Pocket2MolLigandGenerator(\n",
        "    pdb_file=pdb_file,\n",
        "    output_dir=output_dir,\n",
        "    config_dir=config_dir,\n",
        "    toolkit_dir=toolkit_dir,\n",
        "    ligands_dir=ligands_dir\n",
        ")"
      ],
      "metadata": {
        "id": "1I9pXSq2WeBg",
        "colab": {
          "base_uri": "https://localhost:8080/"
        },
        "outputId": "98827a9d-626e-4648-9833-3aaa3029cb34"
      },
      "execution_count": 36,
      "outputs": [
        {
          "output_type": "stream",
          "name": "stdout",
          "text": [
            "Cloning Pocket2Mol repo...\n",
            "Fetching and checking out commit 836a0c4ce487297ad24bc54ac2ebd163de13242c...\n",
            "Downloading model file /content/toolkit/Pocket2Mol/ckpt/pretrained_Pocket2Mol.pt...\n",
            "Pocket2Mol installed.\n"
          ]
        }
      ]
    },
    {
      "cell_type": "code",
      "source": [
        "import json\n",
        "import numpy as np\n",
        "\n",
        "ligands_mol_coordinates = {}\n",
        "\n",
        "for pocket_file_name, center in pocket_centers.items():\n",
        "    ligands = ligand_generator.generate_ligands(center, pocket_file_name)\n",
        "    coords = {}\n",
        "\n",
        "    for ligand in ligands[\"ligand_paths\"]:\n",
        "        coords[ligand] = ligand_generator.compute_molecule_coordinates(ligand)\n",
        "\n",
        "    ligands_mol_coordinates[pocket_file_name] = {\n",
        "        \"coords\": coords,\n",
        "        \"smiles\": ligands[\"smiles\"]\n",
        "    }\n",
        "\n",
        "json_path = os.path.join(pdb_dir, f\"{pdb_dir}_ligands_mol_coords.json\")\n",
        "\n",
        "with open(json_path, \"w\") as f:\n",
        "    json.dump(ligands_mol_coordinates, f)\n",
        "\n",
        "print(f\"Molecule coordinates saved to {json_path}. You can download that file and load it in the VQE notebook.\")"
      ],
      "metadata": {
        "colab": {
          "base_uri": "https://localhost:8080/",
          "height": 1000
        },
        "id": "RYt2XbahRCIw",
        "outputId": "4c99b8de-695b-41d7-e3a4-9968f789ec11"
      },
      "execution_count": 37,
      "outputs": [
        {
          "output_type": "stream",
          "name": "stdout",
          "text": [
            "Pocket center: -18.92,-2.99,13.69\n",
            "Running Pocket2Mol...\n",
            "Pocket2Mol failed:\n",
            "[2025-07-24 06:44:12,945::sample::INFO] Namespace(pdb_path='/content/output/PfEMP1/PfEMP1.pdb', center=[-18.92, -2.99, 13.69], bbox_size=23.0, config='/content/config/pocket2mol_config.yml', device='cuda', outdir='/content/output/PfEMP1/ligands/pocket1_atm.pdb')\n",
            "[2025-07-24 06:44:12,945::sample::INFO] {'model': {'checkpoint': './ckpt/pretrained_Pocket2Mol.pt'}, 'sample': {'seed': 2020, 'num_samples': 6, 'beam_size': 300, 'max_steps': 50, 'threshold': {'focal_threshold': 0.5, 'pos_threshold': 0.25, 'element_threshold': 0.3, 'hasatom_threshold': 0.6, 'bond_threshold': 0.4}}}\n",
            "[2025-07-24 06:44:12,946::sample::INFO] Loading data...\n",
            "[2025-07-24 06:44:13,173::sample::INFO] Loading main model...\n",
            "Traceback (most recent call last):\n",
            "  File \"/content/toolkit/Pocket2Mol/sample_for_pdb.py\", line 115, in <module>\n",
            "    ckpt = torch.load(config.model.checkpoint, map_location=args.device)\n",
            "           ^^^^^^^^^^^^^^^^^^^^^^^^^^^^^^^^^^^^^^^^^^^^^^^^^^^^^^^^^^^^^\n",
            "  File \"/usr/local/lib/python3.11/dist-packages/torch/serialization.py\", line 1014, in load\n",
            "    return _load(opened_zipfile,\n",
            "           ^^^^^^^^^^^^^^^^^^^^^\n",
            "  File \"/usr/local/lib/python3.11/dist-packages/torch/serialization.py\", line 1422, in _load\n",
            "    result = unpickler.load()\n",
            "             ^^^^^^^^^^^^^^^^\n",
            "  File \"/usr/local/lib/python3.11/dist-packages/torch/serialization.py\", line 1392, in persistent_load\n",
            "    typed_storage = load_tensor(dtype, nbytes, key, _maybe_decode_ascii(location))\n",
            "                    ^^^^^^^^^^^^^^^^^^^^^^^^^^^^^^^^^^^^^^^^^^^^^^^^^^^^^^^^^^^^^^\n",
            "  File \"/usr/local/lib/python3.11/dist-packages/torch/serialization.py\", line 1366, in load_tensor\n",
            "    wrap_storage=restore_location(storage, location),\n",
            "                 ^^^^^^^^^^^^^^^^^^^^^^^^^^^^^^^^^^^\n",
            "  File \"/usr/local/lib/python3.11/dist-packages/torch/serialization.py\", line 1296, in restore_location\n",
            "    return default_restore_location(storage, map_location)\n",
            "           ^^^^^^^^^^^^^^^^^^^^^^^^^^^^^^^^^^^^^^^^^^^^^^^\n",
            "  File \"/usr/local/lib/python3.11/dist-packages/torch/serialization.py\", line 381, in default_restore_location\n",
            "    result = fn(storage, location)\n",
            "             ^^^^^^^^^^^^^^^^^^^^^\n",
            "  File \"/usr/local/lib/python3.11/dist-packages/torch/serialization.py\", line 274, in _cuda_deserialize\n",
            "    device = validate_cuda_device(location)\n",
            "             ^^^^^^^^^^^^^^^^^^^^^^^^^^^^^^\n",
            "  File \"/usr/local/lib/python3.11/dist-packages/torch/serialization.py\", line 258, in validate_cuda_device\n",
            "    raise RuntimeError('Attempting to deserialize object on a CUDA '\n",
            "RuntimeError: Attempting to deserialize object on a CUDA device but torch.cuda.is_available() is False. If you are running on a CPU-only machine, please use torch.load with map_location=torch.device('cpu') to map your storages to the CPU.\n",
            "\n"
          ]
        },
        {
          "output_type": "error",
          "ename": "FileNotFoundError",
          "evalue": "SMILES.txt not found in /content/output/PfEMP1/ligands/pocket1_atm.pdb/pocket2mol_config_PfEMP1.pdb_2025_07_24__06_44_12",
          "traceback": [
            "\u001b[0;31m---------------------------------------------------------------------------\u001b[0m",
            "\u001b[0;31mFileNotFoundError\u001b[0m                         Traceback (most recent call last)",
            "\u001b[0;32m/tmp/ipython-input-37-3433017075.py\u001b[0m in \u001b[0;36m<cell line: 0>\u001b[0;34m()\u001b[0m\n\u001b[1;32m      5\u001b[0m \u001b[0;34m\u001b[0m\u001b[0m\n\u001b[1;32m      6\u001b[0m \u001b[0;32mfor\u001b[0m \u001b[0mpocket_file_name\u001b[0m\u001b[0;34m,\u001b[0m \u001b[0mcenter\u001b[0m \u001b[0;32min\u001b[0m \u001b[0mpocket_centers\u001b[0m\u001b[0;34m.\u001b[0m\u001b[0mitems\u001b[0m\u001b[0;34m(\u001b[0m\u001b[0;34m)\u001b[0m\u001b[0;34m:\u001b[0m\u001b[0;34m\u001b[0m\u001b[0;34m\u001b[0m\u001b[0m\n\u001b[0;32m----> 7\u001b[0;31m     \u001b[0mligands\u001b[0m \u001b[0;34m=\u001b[0m \u001b[0mligand_generator\u001b[0m\u001b[0;34m.\u001b[0m\u001b[0mgenerate_ligands\u001b[0m\u001b[0;34m(\u001b[0m\u001b[0mcenter\u001b[0m\u001b[0;34m,\u001b[0m \u001b[0mpocket_file_name\u001b[0m\u001b[0;34m)\u001b[0m\u001b[0;34m\u001b[0m\u001b[0;34m\u001b[0m\u001b[0m\n\u001b[0m\u001b[1;32m      8\u001b[0m     \u001b[0mcoords\u001b[0m \u001b[0;34m=\u001b[0m \u001b[0;34m{\u001b[0m\u001b[0;34m}\u001b[0m\u001b[0;34m\u001b[0m\u001b[0;34m\u001b[0m\u001b[0m\n\u001b[1;32m      9\u001b[0m \u001b[0;34m\u001b[0m\u001b[0m\n",
            "\u001b[0;32m/tmp/ipython-input-35-1824322496.py\u001b[0m in \u001b[0;36mgenerate_ligands\u001b[0;34m(self, pocket_center, pocket_prefix)\u001b[0m\n\u001b[1;32m     76\u001b[0m \u001b[0;34m\u001b[0m\u001b[0m\n\u001b[1;32m     77\u001b[0m         \u001b[0mself\u001b[0m\u001b[0;34m.\u001b[0m\u001b[0mgenerate_smiles\u001b[0m\u001b[0;34m(\u001b[0m\u001b[0mpocket_center\u001b[0m\u001b[0;34m,\u001b[0m \u001b[0msmiles_output_dir\u001b[0m\u001b[0;34m)\u001b[0m\u001b[0;34m\u001b[0m\u001b[0;34m\u001b[0m\u001b[0m\n\u001b[0;32m---> 78\u001b[0;31m         \u001b[0msmiles_path\u001b[0m \u001b[0;34m=\u001b[0m \u001b[0mself\u001b[0m\u001b[0;34m.\u001b[0m\u001b[0mget_latest_smiles_file\u001b[0m\u001b[0;34m(\u001b[0m\u001b[0msmiles_output_dir\u001b[0m\u001b[0;34m)\u001b[0m\u001b[0;34m\u001b[0m\u001b[0;34m\u001b[0m\u001b[0m\n\u001b[0m\u001b[1;32m     79\u001b[0m         \u001b[0msmiles\u001b[0m \u001b[0;34m=\u001b[0m \u001b[0mself\u001b[0m\u001b[0;34m.\u001b[0m\u001b[0mfilter_smiles\u001b[0m\u001b[0;34m(\u001b[0m\u001b[0msmiles_path\u001b[0m\u001b[0;34m)\u001b[0m\u001b[0;34m\u001b[0m\u001b[0;34m\u001b[0m\u001b[0m\n\u001b[1;32m     80\u001b[0m \u001b[0;34m\u001b[0m\u001b[0m\n",
            "\u001b[0;32m/tmp/ipython-input-35-1824322496.py\u001b[0m in \u001b[0;36mget_latest_smiles_file\u001b[0;34m(self, output_dir)\u001b[0m\n\u001b[1;32m    133\u001b[0m \u001b[0;34m\u001b[0m\u001b[0m\n\u001b[1;32m    134\u001b[0m         \u001b[0;32mif\u001b[0m \u001b[0;32mnot\u001b[0m \u001b[0mos\u001b[0m\u001b[0;34m.\u001b[0m\u001b[0mpath\u001b[0m\u001b[0;34m.\u001b[0m\u001b[0mexists\u001b[0m\u001b[0;34m(\u001b[0m\u001b[0msmiles_path\u001b[0m\u001b[0;34m)\u001b[0m\u001b[0;34m:\u001b[0m\u001b[0;34m\u001b[0m\u001b[0;34m\u001b[0m\u001b[0m\n\u001b[0;32m--> 135\u001b[0;31m             \u001b[0;32mraise\u001b[0m \u001b[0mFileNotFoundError\u001b[0m\u001b[0;34m(\u001b[0m\u001b[0;34mf\"SMILES.txt not found in {latest_dir}\"\u001b[0m\u001b[0;34m)\u001b[0m\u001b[0;34m\u001b[0m\u001b[0;34m\u001b[0m\u001b[0m\n\u001b[0m\u001b[1;32m    136\u001b[0m \u001b[0;34m\u001b[0m\u001b[0m\n\u001b[1;32m    137\u001b[0m         \u001b[0;32mreturn\u001b[0m \u001b[0msmiles_path\u001b[0m\u001b[0;34m\u001b[0m\u001b[0;34m\u001b[0m\u001b[0m\n",
            "\u001b[0;31mFileNotFoundError\u001b[0m: SMILES.txt not found in /content/output/PfEMP1/ligands/pocket1_atm.pdb/pocket2mol_config_PfEMP1.pdb_2025_07_24__06_44_12"
          ]
        }
      ]
    },
    {
      "cell_type": "code",
      "source": [],
      "metadata": {
        "id": "__WO6mWQXBTc"
      },
      "execution_count": null,
      "outputs": []
    },
    {
      "cell_type": "code",
      "source": [
        "# smiles_path = get_latest_smiles_file()\n",
        "# top_smiles = filter_smiles(smiles_path, top_n=5)"
      ],
      "metadata": {
        "id": "k4gIp3flWizI",
        "colab": {
          "base_uri": "https://localhost:8080/"
        },
        "outputId": "2aec6234-2cac-4ef3-ed58-03398f00a781"
      },
      "execution_count": null,
      "outputs": [
        {
          "output_type": "stream",
          "name": "stdout",
          "text": [
            "Selected top 5 ligands:\n",
            "O=C(O)CCc1cccc(CO)c1 | QED: 0.73 | MW: 180.20\n",
            "COc1ccc2c(O)cccc2c1 | QED: 0.72 | MW: 174.20\n",
            "COC1CCc2c(O)cccc2C1 | QED: 0.71 | MW: 178.23\n",
            "O=C(O)COc1ccccc1 | QED: 0.71 | MW: 152.15\n",
            "O=C(O)c1cccc(C(=O)O)c1 | QED: 0.69 | MW: 166.13\n"
          ]
        }
      ]
    },
    {
      "cell_type": "markdown",
      "source": [
        "### Evaluating the Ground State Energies\n",
        "\n",
        "We moved this to its own notebook to avoid package conflicts."
      ],
      "metadata": {
        "id": "hCbSEpLgIsc7"
      }
    },
    {
      "cell_type": "code",
      "source": [
        "# !pip uninstall -y qiskit qiskit-nature pylatexenc rdkit --quiet\n",
        "# !pip install \"qiskit==1.4.3\" qiskit-nature qiskit-nature-pyscf pylatexenc rdkit --quiet"
      ],
      "metadata": {
        "id": "TBvQBoi9pns1"
      },
      "execution_count": null,
      "outputs": []
    },
    {
      "cell_type": "code",
      "source": [
        "# def compute_molecule_coordinates(sdf_path):\n",
        "#     # Load the molecule from an SDF file\n",
        "#     supplier = Chem.SDMolSupplier(sdf_path, removeHs=False)\n",
        "#     mol = supplier[0]  # First molecule in the file\n",
        "\n",
        "#     if mol is None:\n",
        "#         raise ValueError(\"Could not read molecule from SDF. Check the file format.\")\n",
        "\n",
        "#     # Generate 3D coordinates if not already present\n",
        "#     if not mol.GetConformer().Is3D():\n",
        "#         AllChem.EmbedMolecule(mol, AllChem.ETKDG())\n",
        "#         AllChem.MMFFOptimizeMolecule(mol)\n",
        "\n",
        "#     # Extract coordinates and format them\n",
        "#     conf = mol.GetConformer()\n",
        "#     coords = []\n",
        "\n",
        "#     for i in range(mol.GetNumAtoms()):\n",
        "#         atom = mol.GetAtomWithIdx(i)\n",
        "#         pos = conf.GetAtomPosition(i)\n",
        "#         coords.append(f\"{atom.GetSymbol()} {pos.x:.6f} {pos.y:.6f} {pos.z:.6f}\")\n",
        "\n",
        "#     formatted_coords = \"; \".join(coords)\n",
        "\n",
        "#     return formatted_coords\n"
      ],
      "metadata": {
        "id": "GaU5fTb6BErF"
      },
      "execution_count": null,
      "outputs": []
    },
    {
      "cell_type": "code",
      "source": [
        "# from google.colab import files\n",
        "# uploaded = files.upload()"
      ],
      "metadata": {
        "id": "fXZqcoxFBiZ2"
      },
      "execution_count": null,
      "outputs": []
    },
    {
      "cell_type": "code",
      "source": [
        "# molecule = \"H 0 0 0; H 0 0 0.735\" # H_2\n",
        "# # molecule = \"N 0.000 0.000 0.100; H 0.9377 0.000 -0.270; H -0.46885 0.812 -0.270; H -0.46885 -0.812 -0.270\" # NH_3\n",
        "# # molecule = \"N 0.000 0.000 0.000; H 0.000 0.000 1.010\"\n",
        "# ## Load molecule automatically from SDF file that we can download from https://pubchem.ncbi.nlm.nih.gov/\n",
        "\n",
        "# ## Eg: Pyrimethamine : https://pubchem.ncbi.nlm.nih.gov/compound/4993\n",
        "# # sdf_file = \"Pyrimethamine_Conformer3D_COMPOUND_CID_4993.sdf\"\n",
        "# # molecule = compute_molecule_coordinates(sdf_file)\n",
        "\n",
        "# print(molecule)"
      ],
      "metadata": {
        "id": "xeoPn-gcBiL1"
      },
      "execution_count": null,
      "outputs": []
    },
    {
      "cell_type": "code",
      "source": [
        "# driver = PySCFDriver(\n",
        "#     atom=molecule,\n",
        "#     basis=\"sto3g\",\n",
        "#     charge=0,\n",
        "#     spin=0,\n",
        "#     unit=DistanceUnit.ANGSTROM,\n",
        "# )\n",
        "\n",
        "# es_problem = driver.run()"
      ],
      "metadata": {
        "id": "A33akODbWjyW"
      },
      "execution_count": null,
      "outputs": []
    },
    {
      "cell_type": "code",
      "source": [
        "# ast = ActiveSpaceTransformer(num_electrons=2, num_molecular_orbitals=2)\n",
        "# es_problem = ast.transform(es_problem)"
      ],
      "metadata": {
        "id": "oj7AdWKDjRPk"
      },
      "execution_count": null,
      "outputs": []
    },
    {
      "cell_type": "code",
      "source": [
        "# mapper = JordanWignerMapper()"
      ],
      "metadata": {
        "id": "frBp_n2iDAGP"
      },
      "execution_count": null,
      "outputs": []
    },
    {
      "cell_type": "code",
      "source": [
        "# fermionic_op = es_problem.hamiltonian.second_q_op()\n",
        "# qubit_jw_op = mapper.map(fermionic_op)\n",
        "# print(qubit_jw_op)"
      ],
      "metadata": {
        "id": "iUQTuWKqJTWi"
      },
      "execution_count": null,
      "outputs": []
    },
    {
      "cell_type": "code",
      "source": [
        "# ansatz = UCCSD(\n",
        "#     es_problem.num_spatial_orbitals,\n",
        "#     es_problem.num_particles,\n",
        "#     mapper,\n",
        "#     initial_state=HartreeFock(\n",
        "#         es_problem.num_spatial_orbitals,\n",
        "#         es_problem.num_particles,\n",
        "#         mapper,\n",
        "#     ),\n",
        "# )\n",
        "\n",
        "# vqe_solver = VQE(Estimator(), ansatz, SLSQP())\n",
        "# vqe_solver.initial_point = [0.0] * ansatz.num_parameters"
      ],
      "metadata": {
        "id": "EP05NUrMDRaK"
      },
      "execution_count": null,
      "outputs": []
    },
    {
      "cell_type": "code",
      "source": [
        "# ansatz.decompose().draw('mpl')"
      ],
      "metadata": {
        "id": "I6Tfd52kJX9C"
      },
      "execution_count": null,
      "outputs": []
    },
    {
      "cell_type": "code",
      "source": [
        "# calc = GroundStateEigensolver(mapper, vqe_solver)"
      ],
      "metadata": {
        "id": "Bef-Yh43CY5W"
      },
      "execution_count": null,
      "outputs": []
    },
    {
      "cell_type": "code",
      "source": [
        "# res = calc.solve(es_problem)\n",
        "\n",
        "# print(res)"
      ],
      "metadata": {
        "id": "YPOdd0XVJJPM"
      },
      "execution_count": null,
      "outputs": []
    },
    {
      "cell_type": "code",
      "source": [],
      "metadata": {
        "id": "DtUXjQMmJJMo"
      },
      "execution_count": null,
      "outputs": []
    },
    {
      "cell_type": "code",
      "source": [],
      "metadata": {
        "id": "1CA0u5KLJJKm"
      },
      "execution_count": null,
      "outputs": []
    },
    {
      "cell_type": "code",
      "source": [],
      "metadata": {
        "id": "2sQZxmIlJJH_"
      },
      "execution_count": null,
      "outputs": []
    },
    {
      "cell_type": "code",
      "source": [],
      "metadata": {
        "id": "b8gF5h0aJJAK"
      },
      "execution_count": null,
      "outputs": []
    },
    {
      "cell_type": "code",
      "source": [],
      "metadata": {
        "id": "1mNRmZetJI70"
      },
      "execution_count": null,
      "outputs": []
    },
    {
      "cell_type": "code",
      "source": [],
      "metadata": {
        "id": "p9TxVDgyJI2V"
      },
      "execution_count": null,
      "outputs": []
    },
    {
      "cell_type": "code",
      "source": [],
      "metadata": {
        "id": "9EZypAXdJIyS"
      },
      "execution_count": null,
      "outputs": []
    },
    {
      "cell_type": "code",
      "source": [],
      "metadata": {
        "id": "aPmJxOPmJItU"
      },
      "execution_count": null,
      "outputs": []
    },
    {
      "cell_type": "code",
      "source": [],
      "metadata": {
        "id": "WD_mKtsxJIoT"
      },
      "execution_count": null,
      "outputs": []
    },
    {
      "cell_type": "code",
      "source": [],
      "metadata": {
        "id": "nHN-wBlqJIji"
      },
      "execution_count": null,
      "outputs": []
    },
    {
      "cell_type": "code",
      "source": [],
      "metadata": {
        "id": "A61m2bhCJIe6"
      },
      "execution_count": null,
      "outputs": []
    },
    {
      "cell_type": "code",
      "source": [],
      "metadata": {
        "id": "1j7XjZGaJIap"
      },
      "execution_count": null,
      "outputs": []
    },
    {
      "cell_type": "code",
      "source": [],
      "metadata": {
        "id": "TYf2XiflJIYI"
      },
      "execution_count": null,
      "outputs": []
    },
    {
      "cell_type": "code",
      "source": [],
      "metadata": {
        "id": "5f5ajeFxJIKR"
      },
      "execution_count": null,
      "outputs": []
    },
    {
      "cell_type": "code",
      "source": [],
      "metadata": {
        "id": "C23UX92hJIF0"
      },
      "execution_count": null,
      "outputs": []
    },
    {
      "cell_type": "code",
      "source": [],
      "metadata": {
        "id": "Ue_a8x_DJIAp"
      },
      "execution_count": null,
      "outputs": []
    },
    {
      "cell_type": "code",
      "source": [],
      "metadata": {
        "id": "SyXRe6pCJH7-"
      },
      "execution_count": null,
      "outputs": []
    },
    {
      "cell_type": "code",
      "source": [],
      "metadata": {
        "id": "XgQfU4QHJH3Y"
      },
      "execution_count": null,
      "outputs": []
    },
    {
      "cell_type": "code",
      "source": [],
      "metadata": {
        "id": "yD5sLmZHJHyp"
      },
      "execution_count": null,
      "outputs": []
    },
    {
      "cell_type": "code",
      "source": [],
      "metadata": {
        "id": "M4nOMvxRJHt8"
      },
      "execution_count": null,
      "outputs": []
    },
    {
      "cell_type": "code",
      "source": [],
      "metadata": {
        "id": "DJPl6M1DJHoz"
      },
      "execution_count": null,
      "outputs": []
    },
    {
      "cell_type": "code",
      "source": [],
      "metadata": {
        "id": "QHvh_Ex_JHkG"
      },
      "execution_count": null,
      "outputs": []
    },
    {
      "cell_type": "code",
      "source": [],
      "metadata": {
        "id": "zG8Bo6EPJHfN"
      },
      "execution_count": null,
      "outputs": []
    },
    {
      "cell_type": "code",
      "source": [],
      "metadata": {
        "id": "vcD5YsCQJHat"
      },
      "execution_count": null,
      "outputs": []
    },
    {
      "cell_type": "code",
      "source": [],
      "metadata": {
        "id": "UMz6up4oJHVx"
      },
      "execution_count": null,
      "outputs": []
    },
    {
      "cell_type": "code",
      "source": [],
      "metadata": {
        "id": "kWcXPorUJHQz"
      },
      "execution_count": null,
      "outputs": []
    },
    {
      "cell_type": "code",
      "source": [],
      "metadata": {
        "id": "5frAnX3rJHMU"
      },
      "execution_count": null,
      "outputs": []
    },
    {
      "cell_type": "code",
      "source": [],
      "metadata": {
        "id": "KSrn5Ok1JG6U"
      },
      "execution_count": null,
      "outputs": []
    },
    {
      "cell_type": "code",
      "source": [
        "!pip uninstall -y qiskit qiskit-nature pylatexenc rdkit --quiet\n",
        "!pip install \"qiskit==1.4.3\" qiskit-nature qiskit-nature-pyscf pylatexenc rdkit --quiet"
      ],
      "metadata": {
        "colab": {
          "base_uri": "https://localhost:8080/"
        },
        "id": "35Lw7QoklKRU",
        "outputId": "abe67fa1-a27b-4d7d-8d5e-e8788cab438c"
      },
      "execution_count": null,
      "outputs": [
        {
          "output_type": "stream",
          "name": "stdout",
          "text": [
            "\u001b[33mWARNING: Skipping qiskit as it is not installed.\u001b[0m\u001b[33m\n",
            "\u001b[0m\u001b[33mWARNING: Skipping qiskit-nature as it is not installed.\u001b[0m\u001b[33m\n",
            "\u001b[0m\u001b[33mWARNING: Skipping pylatexenc as it is not installed.\u001b[0m\u001b[33m\n",
            "\u001b[0m\u001b[33mWARNING: Skipping rdkit as it is not installed.\u001b[0m\u001b[33m\n",
            "\u001b[2K     \u001b[90m━━━━━━━━━━━━━━━━━━━━━━━━━━━━━━━━━━━━━━━\u001b[0m \u001b[32m162.6/162.6 kB\u001b[0m \u001b[31m4.6 MB/s\u001b[0m eta \u001b[36m0:00:00\u001b[0m\n",
            "\u001b[?25h  Preparing metadata (setup.py) ... \u001b[?25l\u001b[?25hdone\n",
            "\u001b[2K   \u001b[90m━━━━━━━━━━━━━━━━━━━━━━━━━━━━━━━━━━━━━━━━\u001b[0m \u001b[32m6.8/6.8 MB\u001b[0m \u001b[31m69.0 MB/s\u001b[0m eta \u001b[36m0:00:00\u001b[0m\n",
            "\u001b[2K   \u001b[90m━━━━━━━━━━━━━━━━━━━━━━━━━━━━━━━━━━━━━━━━\u001b[0m \u001b[32m2.2/2.2 MB\u001b[0m \u001b[31m66.1 MB/s\u001b[0m eta \u001b[36m0:00:00\u001b[0m\n",
            "\u001b[2K   \u001b[90m━━━━━━━━━━━━━━━━━━━━━━━━━━━━━━━━━━━━━━━━\u001b[0m \u001b[32m34.9/34.9 MB\u001b[0m \u001b[31m43.5 MB/s\u001b[0m eta \u001b[36m0:00:00\u001b[0m\n",
            "\u001b[2K   \u001b[90m━━━━━━━━━━━━━━━━━━━━━━━━━━━━━━━━━━━━━━━━\u001b[0m \u001b[32m50.9/50.9 MB\u001b[0m \u001b[31m11.0 MB/s\u001b[0m eta \u001b[36m0:00:00\u001b[0m\n",
            "\u001b[2K   \u001b[90m━━━━━━━━━━━━━━━━━━━━━━━━━━━━━━━━━━━━━━━━\u001b[0m \u001b[32m310.5/310.5 kB\u001b[0m \u001b[31m19.5 MB/s\u001b[0m eta \u001b[36m0:00:00\u001b[0m\n",
            "\u001b[2K   \u001b[90m━━━━━━━━━━━━━━━━━━━━━━━━━━━━━━━━━━━━━━━━\u001b[0m \u001b[32m2.1/2.1 MB\u001b[0m \u001b[31m77.5 MB/s\u001b[0m eta \u001b[36m0:00:00\u001b[0m\n",
            "\u001b[2K   \u001b[90m━━━━━━━━━━━━━━━━━━━━━━━━━━━━━━━━━━━━━━━━\u001b[0m \u001b[32m49.5/49.5 kB\u001b[0m \u001b[31m2.8 MB/s\u001b[0m eta \u001b[36m0:00:00\u001b[0m\n",
            "\u001b[2K   \u001b[90m━━━━━━━━━━━━━━━━━━━━━━━━━━━━━━━━━━━━━━━━\u001b[0m \u001b[32m49.7/49.7 MB\u001b[0m \u001b[31m14.7 MB/s\u001b[0m eta \u001b[36m0:00:00\u001b[0m\n",
            "\u001b[2K   \u001b[90m━━━━━━━━━━━━━━━━━━━━━━━━━━━━━━━━━━━━━━━━\u001b[0m \u001b[32m109.0/109.0 kB\u001b[0m \u001b[31m6.5 MB/s\u001b[0m eta \u001b[36m0:00:00\u001b[0m\n",
            "\u001b[?25h  Building wheel for pylatexenc (setup.py) ... \u001b[?25l\u001b[?25hdone\n"
          ]
        }
      ]
    },
    {
      "cell_type": "code",
      "source": [
        "from qiskit_nature.units import DistanceUnit\n",
        "from qiskit_nature.second_q.drivers import PySCFDriver\n",
        "from qiskit_nature.second_q.mappers import JordanWignerMapper, ParityMapper\n",
        "from qiskit_nature.second_q.circuit.library import HartreeFock, UCCSD\n",
        "from qiskit import QuantumCircuit\n",
        "from qiskit_nature.second_q.problems import ElectronicStructureProblem\n",
        "from rdkit import Chem\n",
        "from rdkit.Chem import AllChem\n",
        "import time\n",
        "import numpy as np\n",
        "\n",
        "def smiles_to_geometry(smiles, basis=\"sto-3g\", max_attempts=3):\n",
        "    \"\"\"Robust SMILES to geometry conversion with multiple optimization attempts\"\"\"\n",
        "    try:\n",
        "        mol = Chem.MolFromSmiles(smiles)\n",
        "        if mol is None:\n",
        "            raise ValueError(f\"Invalid SMILES: '{smiles}'\")\n",
        "\n",
        "        mol = Chem.AddHs(mol)\n",
        "        for attempt in range(max_attempts):\n",
        "            try:\n",
        "                AllChem.EmbedMolecule(mol, randomSeed=42+attempt)\n",
        "                AllChem.MMFFOptimizeMolecule(mol)\n",
        "                break\n",
        "            except:\n",
        "                if attempt == max_attempts-1:\n",
        "                    raise RuntimeError(f\"Geometry optimization failed after {max_attempts} attempts\")\n",
        "                continue\n",
        "\n",
        "        conf = mol.GetConformer()\n",
        "        elements = []\n",
        "        coords = []\n",
        "        for i in range(mol.GetNumAtoms()):\n",
        "            pos = conf.GetAtomPosition(i)\n",
        "            elements.append(mol.GetAtomWithIdx(i).GetSymbol())\n",
        "            coords.append([pos.x, pos.y, pos.z])\n",
        "\n",
        "        # Format for PySCF: \"Element x y z\" for each atom\n",
        "        geometry = \"\\n\".join([f\"{el} {x:.8f} {y:.8f} {z:.8f}\"\n",
        "                            for el, (x, y, z) in zip(elements, coords)])\n",
        "        return geometry\n",
        "\n",
        "    except Exception as e:\n",
        "        raise RuntimeError(f\"Geometry generation failed for {smiles}: {str(e)}\")\n",
        "\n",
        "def generate_molecular_circuit(smiles, basis=\"sto-3g\", mapper_type=\"jordan_wigner\", charge=0, spin=0):\n",
        "    \"\"\"\n",
        "    Generate quantum circuit for molecular simulation with complete error handling\n",
        "\n",
        "    Args:\n",
        "        smiles (str): Molecular SMILES string\n",
        "        basis (str): Quantum chemistry basis set\n",
        "        mapper_type (str): 'jordan_wigner' or 'parity'\n",
        "        charge (int): Molecular charge\n",
        "        spin (int): Spin multiplicity (2S+1)\n",
        "\n",
        "    Returns:\n",
        "        dict: Contains circuit and metadata or error information\n",
        "    \"\"\"\n",
        "    start_time = time.time()\n",
        "    result = {\n",
        "        \"smiles\": smiles,\n",
        "        \"basis\": basis,\n",
        "        \"mapper\": mapper_type,\n",
        "        \"charge\": charge,\n",
        "        \"spin\": spin,\n",
        "        \"success\": False\n",
        "    }\n",
        "\n",
        "    try:\n",
        "        # 1. Generate molecular geometry\n",
        "        geometry = smiles_to_geometry(smiles, basis)\n",
        "        result[\"geometry\"] = geometry\n",
        "\n",
        "        # 2. Run quantum chemistry calculation\n",
        "        driver = PySCFDriver(\n",
        "            atom=geometry,\n",
        "            basis=basis,\n",
        "            charge=charge,\n",
        "            spin=spin-1,  # Convert multiplicity to 2S\n",
        "            unit=DistanceUnit.ANGSTROM\n",
        "        )\n",
        "        problem = driver.run()\n",
        "\n",
        "        # 3. Get molecule information\n",
        "        molecule = problem.molecule\n",
        "        result[\"molecule_info\"] = {\n",
        "            \"n_electrons\": molecule.num_alpha + molecule.num_beta,\n",
        "            \"n_alpha\": molecule.num_alpha,\n",
        "            \"n_beta\": molecule.num_beta,\n",
        "            \"n_orbitals\": molecule.num_molecular_orbitals,\n",
        "            \"nuclear_repulsion\": problem.nuclear_repulsion_energy,\n",
        "            \"atoms\": [str(atom) for atom in molecule.atoms]\n",
        "        }\n",
        "\n",
        "        # 4. Select mapper\n",
        "        mapper = JordanWignerMapper() if mapper_type == \"jordan_wigner\" else ParityMapper()\n",
        "\n",
        "        # 5. Build UCCSD ansatz\n",
        "        ansatz = UCCSD(\n",
        "            molecule.num_molecular_orbitals,\n",
        "            (molecule.num_alpha, molecule.num_beta),\n",
        "            mapper,\n",
        "            initial_state=HartreeFock(\n",
        "                molecule.num_molecular_orbitals,\n",
        "                (molecule.num_alpha, molecule.num_beta),\n",
        "                mapper\n",
        "            )\n",
        "        )\n",
        "\n",
        "        # 6. Prepare results\n",
        "        result.update({\n",
        "            \"circuit\": ansatz,\n",
        "            \"qubits\": ansatz.num_qubits,\n",
        "            \"parameters\": ansatz.num_parameters,\n",
        "            \"depth\": ansatz.depth(),\n",
        "            \"success\": True,\n",
        "            \"execution_time\": time.time() - start_time\n",
        "        })\n",
        "\n",
        "    except Exception as e:\n",
        "        result.update({\n",
        "            \"error\": str(e),\n",
        "            \"execution_time\": time.time() - start_time\n",
        "        })\n",
        "\n",
        "    return result\n",
        "\n",
        "def save_circuit_for_qbraid(result, filename_prefix=\"\"):\n",
        "    \"\"\"Save circuit in Qbraid-compatible format\"\"\"\n",
        "    if not result[\"success\"]:\n",
        "        raise ValueError(\"Cannot save failed circuit generation\")\n",
        "\n",
        "    # Generate descriptive filename\n",
        "    smiles_short = result[\"smiles\"][:10].replace(\"/\", \"_\")\n",
        "    filename = f\"{filename_prefix}{smiles_short}_q{result['qubits']}_p{result['parameters']}.qasm\"\n",
        "\n",
        "    # Save QASM file\n",
        "    with open(filename, \"w\") as f:\n",
        "        f.write(result[\"circuit\"].qasm())\n",
        "\n",
        "    # Save metadata as JSON\n",
        "    import json\n",
        "    with open(filename.replace(\".qasm\", \".json\"), \"w\") as f:\n",
        "        json.dump({\n",
        "            k: v for k, v in result.items()\n",
        "            if k not in [\"circuit\"]\n",
        "        }, f, indent=2)\n",
        "\n",
        "    return filename\n",
        "\n",
        "# ====================\n",
        "# Target Molecules\n",
        "# ====================\n",
        "MOLECULES = {\n",
        "    \"Succinic Acid\": \"O=C(O)CCc1cccc(CO)c1\",\n",
        "    \"Guaicol Derivative\": \"COc1ccc2c(O)cccc2c1\",\n",
        "    \"Methoxy Cyclohexadiene\": \"COC1CCc2c(O)cccc2C1\",\n",
        "    \"Phenyl Formate\": \"O=C(O)COc1ccccc1\",\n",
        "    \"Phthalic Acid\": \"O=C(O)c1cccc(C(=O)O)c1\"\n",
        "}\n",
        "\n",
        "# ====================\n",
        "# Execution\n",
        "# ====================\n",
        "if __name__ == \"__main__\":\n",
        "    print(\"Generating quantum circuits for organic molecules...\")\n",
        "    print(f\"{'Molecule':<25} {'Qubits':<8} {'Params':<8} {'Status':<15} {'Time (s)':<10}\")\n",
        "    print(\"-\"*70)\n",
        "\n",
        "    successful_circuits = {}\n",
        "\n",
        "    for name, smiles in MOLECULES.items():\n",
        "        # Generate circuit with error handling\n",
        "        try:\n",
        "            result = generate_molecular_circuit(\n",
        "                smiles,\n",
        "                basis=\"sto-3g\",\n",
        "                mapper_type=\"jordan_wigner\",\n",
        "                charge=0,\n",
        "                spin=1\n",
        "            )\n",
        "\n",
        "            # Print status\n",
        "            status = \"SUCCESS\" if result[\"success\"] else \"FAILED\"\n",
        "            time_str = f\"{result['execution_time']:.1f}\"\n",
        "            qubits = result.get(\"qubits\", \"N/A\")\n",
        "            params = result.get(\"parameters\", \"N/A\")\n",
        "\n",
        "            print(f\"{name[:24]:<25} {qubits:<8} {params:<8} {status:<15} {time_str:<10}\")\n",
        "\n",
        "            # Save successful circuits\n",
        "            if result[\"success\"]:\n",
        "                filename = save_circuit_for_qbraid(result, f\"{name[:3]}_\")\n",
        "                successful_circuits[name] = {\n",
        "                    \"filename\": filename,\n",
        "                    \"qubits\": result[\"qubits\"],\n",
        "                    \"parameters\": result[\"parameters\"]\n",
        "                }\n",
        "\n",
        "        except Exception as e:\n",
        "            print(f\"{name[:24]:<25} {'-':<8} {'-':<8} {'CRASHED':<15} {'-':<10}\")\n",
        "            print(f\"  Error: {str(e)}\")\n",
        "\n",
        "    # Print summary\n",
        "    print(\"\\nSuccessfully generated circuits:\")\n",
        "    for name, data in successful_circuits.items():\n",
        "        print(f\"- {name}: {data['filename']} ({data['qubits']} qubits, {data['parameters']} params)\")"
      ],
      "metadata": {
        "colab": {
          "base_uri": "https://localhost:8080/",
          "height": 395
        },
        "id": "DWfvZLELkufM",
        "outputId": "58a2c790-27ed-4c72-a35b-fb3325c10101"
      },
      "execution_count": null,
      "outputs": [
        {
          "output_type": "error",
          "ename": "ModuleNotFoundError",
          "evalue": "No module named 'qiskit_nature'",
          "traceback": [
            "\u001b[0;31m---------------------------------------------------------------------------\u001b[0m",
            "\u001b[0;31mModuleNotFoundError\u001b[0m                       Traceback (most recent call last)",
            "\u001b[0;32m/tmp/ipython-input-3-3128506167.py\u001b[0m in \u001b[0;36m<cell line: 0>\u001b[0;34m()\u001b[0m\n\u001b[0;32m----> 1\u001b[0;31m \u001b[0;32mfrom\u001b[0m \u001b[0mqiskit_nature\u001b[0m\u001b[0;34m.\u001b[0m\u001b[0munits\u001b[0m \u001b[0;32mimport\u001b[0m \u001b[0mDistanceUnit\u001b[0m\u001b[0;34m\u001b[0m\u001b[0;34m\u001b[0m\u001b[0m\n\u001b[0m\u001b[1;32m      2\u001b[0m \u001b[0;32mfrom\u001b[0m \u001b[0mqiskit_nature\u001b[0m\u001b[0;34m.\u001b[0m\u001b[0msecond_q\u001b[0m\u001b[0;34m.\u001b[0m\u001b[0mdrivers\u001b[0m \u001b[0;32mimport\u001b[0m \u001b[0mPySCFDriver\u001b[0m\u001b[0;34m\u001b[0m\u001b[0;34m\u001b[0m\u001b[0m\n\u001b[1;32m      3\u001b[0m \u001b[0;32mfrom\u001b[0m \u001b[0mqiskit_nature\u001b[0m\u001b[0;34m.\u001b[0m\u001b[0msecond_q\u001b[0m\u001b[0;34m.\u001b[0m\u001b[0mmappers\u001b[0m \u001b[0;32mimport\u001b[0m \u001b[0mJordanWignerMapper\u001b[0m\u001b[0;34m,\u001b[0m \u001b[0mParityMapper\u001b[0m\u001b[0;34m\u001b[0m\u001b[0;34m\u001b[0m\u001b[0m\n\u001b[1;32m      4\u001b[0m \u001b[0;32mfrom\u001b[0m \u001b[0mqiskit_nature\u001b[0m\u001b[0;34m.\u001b[0m\u001b[0msecond_q\u001b[0m\u001b[0;34m.\u001b[0m\u001b[0mcircuit\u001b[0m\u001b[0;34m.\u001b[0m\u001b[0mlibrary\u001b[0m \u001b[0;32mimport\u001b[0m \u001b[0mHartreeFock\u001b[0m\u001b[0;34m,\u001b[0m \u001b[0mUCCSD\u001b[0m\u001b[0;34m\u001b[0m\u001b[0;34m\u001b[0m\u001b[0m\n\u001b[1;32m      5\u001b[0m \u001b[0;32mfrom\u001b[0m \u001b[0mqiskit\u001b[0m \u001b[0;32mimport\u001b[0m \u001b[0mQuantumCircuit\u001b[0m\u001b[0;34m\u001b[0m\u001b[0;34m\u001b[0m\u001b[0m\n",
            "\u001b[0;31mModuleNotFoundError\u001b[0m: No module named 'qiskit_nature'",
            "",
            "\u001b[0;31m---------------------------------------------------------------------------\u001b[0;32m\nNOTE: If your import is failing due to a missing package, you can\nmanually install dependencies using either !pip or !apt.\n\nTo view examples of installing some common dependencies, click the\n\"Open Examples\" button below.\n\u001b[0;31m---------------------------------------------------------------------------\u001b[0m\n"
          ],
          "errorDetails": {
            "actions": [
              {
                "action": "open_url",
                "actionText": "Open Examples",
                "url": "/notebooks/snippets/importing_libraries.ipynb"
              }
            ]
          }
        }
      ]
    },
    {
      "cell_type": "code",
      "source": [
        "from qiskit_nature.units import DistanceUnit\n",
        "from qiskit_nature.second_q.drivers import PySCFDriver\n",
        "from qiskit_nature.second_q.mappers import JordanWignerMapper, ParityMapper\n",
        "from qiskit_nature.second_q.circuit.library import HartreeFock, UCCSD\n",
        "from qiskit import QuantumCircuit\n",
        "from qiskit_nature.second_q.problems import ElectronicStructureProblem\n",
        "from rdkit import Chem\n",
        "from rdkit.Chem import AllChem\n",
        "import time\n",
        "import numpy as np\n",
        "\n",
        "def smiles_to_geometry(smiles, basis=\"sto-3g\", max_attempts=3):\n",
        "    \"\"\"Robust SMILES to geometry conversion with multiple optimization attempts\"\"\"\n",
        "    try:\n",
        "        mol = Chem.MolFromSmiles(smiles)\n",
        "        if mol is None:\n",
        "            raise ValueError(f\"Invalid SMILES: '{smiles}'\")\n",
        "\n",
        "        mol = Chem.AddHs(mol)\n",
        "        for attempt in range(max_attempts):\n",
        "            try:\n",
        "                AllChem.EmbedMolecule(mol, randomSeed=42+attempt)\n",
        "                AllChem.MMFFOptimizeMolecule(mol)\n",
        "                break\n",
        "            except:\n",
        "                if attempt == max_attempts-1:\n",
        "                    raise RuntimeError(f\"Geometry optimization failed after {max_attempts} attempts\")\n",
        "                continue\n",
        "\n",
        "        conf = mol.GetConformer()\n",
        "        elements = []\n",
        "        coords = []\n",
        "        for i in range(mol.GetNumAtoms()):\n",
        "            pos = conf.GetAtomPosition(i)\n",
        "            elements.append(mol.GetAtomWithIdx(i).GetSymbol())\n",
        "            coords.append([pos.x, pos.y, pos.z])\n",
        "\n",
        "        # Format for PySCF: \"Element x y z\" for each atom\n",
        "        geometry = \"\\n\".join([f\"{el} {x:.8f} {y:.8f} {z:.8f}\"\n",
        "                            for el, (x, y, z) in zip(elements, coords)])\n",
        "        return geometry\n",
        "\n",
        "    except Exception as e:\n",
        "        raise RuntimeError(f\"Geometry generation failed for {smiles}: {str(e)}\")\n",
        "\n",
        "def generate_molecular_circuit(smiles, basis=\"sto-3g\", mapper_type=\"jordan_wigner\", charge=0, spin=0):\n",
        "    \"\"\"\n",
        "    Generate quantum circuit for molecular simulation with complete error handling\n",
        "\n",
        "    Args:\n",
        "        smiles (str): Molecular SMILES string\n",
        "        basis (str): Quantum chemistry basis set\n",
        "        mapper_type (str): 'jordan_wigner' or 'parity'\n",
        "        charge (int): Molecular charge\n",
        "        spin (int): Spin multiplicity (2S+1)\n",
        "\n",
        "    Returns:\n",
        "        dict: Contains circuit and metadata or error information\n",
        "    \"\"\"\n",
        "    start_time = time.time()\n",
        "    result = {\n",
        "        \"smiles\": smiles,\n",
        "        \"basis\": basis,\n",
        "        \"mapper\": mapper_type,\n",
        "        \"charge\": charge,\n",
        "        \"spin\": spin,\n",
        "        \"success\": False\n",
        "    }\n",
        "\n",
        "    try:\n",
        "        # 1. Generate molecular geometry\n",
        "        geometry = smiles_to_geometry(smiles, basis)\n",
        "        result[\"geometry\"] = geometry\n",
        "\n",
        "        # 2. Run quantum chemistry calculation\n",
        "        driver = PySCFDriver(\n",
        "            atom=geometry,\n",
        "            basis=basis,\n",
        "            charge=charge,\n",
        "            spin=spin-1,  # Convert multiplicity to 2S\n",
        "            unit=DistanceUnit.ANGSTROM\n",
        "        )\n",
        "        problem = driver.run()\n",
        "\n",
        "        # 3. Get molecule information (FIXED ATTRIBUTE ACCESS)\n",
        "        num_alpha = problem.num_alpha_electrons\n",
        "        num_beta = problem.num_beta_electrons\n",
        "        num_orbitals = problem.num_spatial_orbitals\n",
        "\n",
        "        result[\"molecule_info\"] = {\n",
        "            \"n_electrons\": num_alpha + num_beta,\n",
        "            \"n_alpha\": num_alpha,\n",
        "            \"n_beta\": num_beta,\n",
        "            \"n_orbitals\": num_orbitals,\n",
        "            \"nuclear_repulsion\": problem.nuclear_repulsion_energy,\n",
        "            \"atoms\": [str(atom) for atom in problem.molecule.atoms]\n",
        "        }\n",
        "\n",
        "        # 4. Select mapper\n",
        "        mapper = JordanWignerMapper() if mapper_type == \"jordan_wigner\" else ParityMapper()\n",
        "\n",
        "        # 5. Build UCCSD ansatz (USING FIXED ATTRIBUTES)\n",
        "        ansatz = UCCSD(\n",
        "            num_orbitals,\n",
        "            (num_alpha, num_beta),\n",
        "            mapper,\n",
        "            initial_state=HartreeFock(\n",
        "                num_orbitals,\n",
        "                (num_alpha, num_beta),\n",
        "                mapper\n",
        "            )\n",
        "        )\n",
        "\n",
        "        # 6. Prepare results\n",
        "        result.update({\n",
        "            \"circuit\": ansatz,\n",
        "            \"qubits\": ansatz.num_qubits,\n",
        "            \"parameters\": ansatz.num_parameters,\n",
        "            \"depth\": ansatz.depth(),\n",
        "            \"success\": True,\n",
        "            \"execution_time\": time.time() - start_time\n",
        "        })\n",
        "\n",
        "    except Exception as e:\n",
        "        result.update({\n",
        "            \"error\": str(e),\n",
        "            \"execution_time\": time.time() - start_time\n",
        "        })\n",
        "\n",
        "    return result\n",
        "\n",
        "\n",
        "def save_circuit_for_qbraid(result, filename_prefix=\"\"):\n",
        "    \"\"\"Save circuit in Qbraid-compatible format\"\"\"\n",
        "    if not result[\"success\"]:\n",
        "        raise ValueError(\"Cannot save failed circuit generation\")\n",
        "\n",
        "    # Generate descriptive filename\n",
        "    smiles_short = result[\"smiles\"][:10].replace(\"/\", \"_\")\n",
        "    filename = f\"{filename_prefix}{smiles_short}_q{result['qubits']}_p{result['parameters']}.qasm\"\n",
        "\n",
        "    # Save QASM file\n",
        "    with open(filename, \"w\") as f:\n",
        "        f.write(result[\"circuit\"].qasm())\n",
        "\n",
        "    # Save metadata as JSON\n",
        "    import json\n",
        "    with open(filename.replace(\".qasm\", \".json\"), \"w\") as f:\n",
        "        json.dump({\n",
        "            k: v for k, v in result.items()\n",
        "            if k not in [\"circuit\"]\n",
        "        }, f, indent=2)\n",
        "\n",
        "    return filename\n",
        "\n",
        "# ====================\n",
        "# Target Molecules\n",
        "# ====================\n",
        "MOLECULES = {\n",
        "    \"Succinic Acid\": \"O=C(O)CCc1cccc(CO)c1\",\n",
        "    \"Guaicol Derivative\": \"COc1ccc2c(O)cccc2c1\",\n",
        "    \"Methoxy Cyclohexadiene\": \"COC1CCc2c(O)cccc2C1\",\n",
        "    \"Phenyl Formate\": \"O=C(O)COc1ccccc1\",\n",
        "    \"Phthalic Acid\": \"O=C(O)c1cccc(C(=O)O)c1\"\n",
        "}\n",
        "\n",
        "# ====================\n",
        "# Execution\n",
        "# ====================\n",
        "if __name__ == \"__main__\":\n",
        "    print(\"Generating quantum circuits for organic molecules...\")\n",
        "    print(f\"{'Molecule':<25} {'Qubits':<8} {'Params':<8} {'Status':<15} {'Time (s)':<10}\")\n",
        "    print(\"-\"*70)\n",
        "\n",
        "    successful_circuits = {}\n",
        "\n",
        "    for name, smiles in MOLECULES.items():\n",
        "        # Generate circuit with error handling\n",
        "        try:\n",
        "            result = generate_molecular_circuit(\n",
        "                smiles,\n",
        "                basis=\"sto-3g\",\n",
        "                mapper_type=\"jordan_wigner\",\n",
        "                charge=0,\n",
        "                spin=1\n",
        "            )\n",
        "\n",
        "            # Print status\n",
        "            status = \"SUCCESS\" if result[\"success\"] else \"FAILED\"\n",
        "            time_str = f\"{result['execution_time']:.1f}\"\n",
        "            qubits = result.get(\"qubits\", \"N/A\")\n",
        "            params = result.get(\"parameters\", \"N/A\")\n",
        "\n",
        "            print(f\"{name[:24]:<25} {qubits:<8} {params:<8} {status:<15} {time_str:<10}\")\n",
        "\n",
        "            # Save successful circuits\n",
        "            if result[\"success\"]:\n",
        "                filename = save_circuit_for_qbraid(result, f\"{name[:3]}_\")\n",
        "                successful_circuits[name] = {\n",
        "                    \"filename\": filename,\n",
        "                    \"qubits\": result[\"qubits\"],\n",
        "                    \"parameters\": result[\"parameters\"]\n",
        "                }\n",
        "\n",
        "        except Exception as e:\n",
        "            print(f\"{name[:24]:<25} {'-':<8} {'-':<8} {'CRASHED':<15} {'-':<10}\")\n",
        "            print(f\"  Error: {str(e)}\")\n",
        "\n",
        "    # Print summary\n",
        "    print(\"\\nSuccessfully generated circuits:\")\n",
        "    for name, data in successful_circuits.items():\n",
        "        print(f\"- {name}: {data['filename']} ({data['qubits']} qubits, {data['parameters']} params)\")"
      ],
      "metadata": {
        "colab": {
          "base_uri": "https://localhost:8080/"
        },
        "id": "l0r6qx4in0Ay",
        "outputId": "e6bfe5a7-7c6a-4522-ee47-7c1fe7c3f378"
      },
      "execution_count": null,
      "outputs": [
        {
          "output_type": "stream",
          "name": "stdout",
          "text": [
            "Generating quantum circuits for organic molecules...\n",
            "Molecule                  Qubits   Params   Status          Time (s)  \n",
            "----------------------------------------------------------------------\n",
            "Succinic Acid             N/A      N/A      FAILED          13.4      \n",
            "Guaicol Derivative        N/A      N/A      FAILED          13.3      \n",
            "Methoxy Cyclohexadiene    N/A      N/A      FAILED          18.4      \n",
            "Phenyl Formate            N/A      N/A      FAILED          7.3       \n",
            "Phthalic Acid             N/A      N/A      FAILED          8.3       \n",
            "\n",
            "Successfully generated circuits:\n"
          ]
        }
      ]
    },
    {
      "cell_type": "code",
      "source": [],
      "metadata": {
        "id": "qQn_ywhY2I-M"
      },
      "execution_count": null,
      "outputs": []
    },
    {
      "cell_type": "code",
      "source": [
        "molecules = [\n",
        "    {'name': 'H2', 'geometry': 'H .0 .0 .0; H .0 .0 0.735'},\n",
        "    {'name': 'LiH', 'geometry': 'Li .0 .0 .0; H .0 .0 1.6'},\n",
        "    {'name': 'H2O', 'geometry': 'O .0 .0 .0; H .0 .757 .586; H .0 -.757 .586'}\n",
        "]\n"
      ],
      "metadata": {
        "colab": {
          "base_uri": "https://localhost:8080/",
          "height": 395
        },
        "id": "iqnYm_-Ckr1h",
        "outputId": "01cdf76e-b55a-4de9-cbbc-d29a57bef6b2"
      },
      "execution_count": null,
      "outputs": [
        {
          "output_type": "error",
          "ename": "ModuleNotFoundError",
          "evalue": "No module named 'qiskit_nature'",
          "traceback": [
            "\u001b[0;31m---------------------------------------------------------------------------\u001b[0m",
            "\u001b[0;31mModuleNotFoundError\u001b[0m                       Traceback (most recent call last)",
            "\u001b[0;32m/tmp/ipython-input-4-2962331522.py\u001b[0m in \u001b[0;36m<cell line: 0>\u001b[0;34m()\u001b[0m\n\u001b[0;32m----> 1\u001b[0;31m \u001b[0;32mfrom\u001b[0m \u001b[0mqiskit_nature\u001b[0m\u001b[0;34m.\u001b[0m\u001b[0munits\u001b[0m \u001b[0;32mimport\u001b[0m \u001b[0mDistanceUnit\u001b[0m\u001b[0;34m\u001b[0m\u001b[0;34m\u001b[0m\u001b[0m\n\u001b[0m\u001b[1;32m      2\u001b[0m \u001b[0;32mfrom\u001b[0m \u001b[0mqiskit_nature\u001b[0m\u001b[0;34m.\u001b[0m\u001b[0msecond_q\u001b[0m\u001b[0;34m.\u001b[0m\u001b[0mdrivers\u001b[0m \u001b[0;32mimport\u001b[0m \u001b[0mPySCFDriver\u001b[0m\u001b[0;34m\u001b[0m\u001b[0;34m\u001b[0m\u001b[0m\n\u001b[1;32m      3\u001b[0m \u001b[0;32mfrom\u001b[0m \u001b[0mqiskit_nature\u001b[0m\u001b[0;34m.\u001b[0m\u001b[0msecond_q\u001b[0m\u001b[0;34m.\u001b[0m\u001b[0mmappers\u001b[0m \u001b[0;32mimport\u001b[0m \u001b[0mJordanWignerMapper\u001b[0m\u001b[0;34m,\u001b[0m \u001b[0mParityMapper\u001b[0m\u001b[0;34m\u001b[0m\u001b[0;34m\u001b[0m\u001b[0m\n\u001b[1;32m      4\u001b[0m \u001b[0;32mfrom\u001b[0m \u001b[0mqiskit_nature\u001b[0m\u001b[0;34m.\u001b[0m\u001b[0msecond_q\u001b[0m\u001b[0;34m.\u001b[0m\u001b[0mcircuit\u001b[0m\u001b[0;34m.\u001b[0m\u001b[0mlibrary\u001b[0m \u001b[0;32mimport\u001b[0m \u001b[0mHartreeFock\u001b[0m\u001b[0;34m,\u001b[0m \u001b[0mUCCSD\u001b[0m\u001b[0;34m\u001b[0m\u001b[0;34m\u001b[0m\u001b[0m\n\u001b[1;32m      5\u001b[0m \u001b[0;32mfrom\u001b[0m \u001b[0mqiskit\u001b[0m \u001b[0;32mimport\u001b[0m \u001b[0mQuantumCircuit\u001b[0m\u001b[0;34m\u001b[0m\u001b[0;34m\u001b[0m\u001b[0m\n",
            "\u001b[0;31mModuleNotFoundError\u001b[0m: No module named 'qiskit_nature'",
            "",
            "\u001b[0;31m---------------------------------------------------------------------------\u001b[0;32m\nNOTE: If your import is failing due to a missing package, you can\nmanually install dependencies using either !pip or !apt.\n\nTo view examples of installing some common dependencies, click the\n\"Open Examples\" button below.\n\u001b[0;31m---------------------------------------------------------------------------\u001b[0m\n"
          ],
          "errorDetails": {
            "actions": [
              {
                "action": "open_url",
                "actionText": "Open Examples",
                "url": "/notebooks/snippets/importing_libraries.ipynb"
              }
            ]
          }
        }
      ]
    },
    {
      "cell_type": "code",
      "source": [],
      "metadata": {
        "id": "gaaaaQfDks-x"
      },
      "execution_count": null,
      "outputs": []
    },
    {
      "cell_type": "code",
      "source": [],
      "metadata": {
        "id": "seVNbWCBhE2T"
      },
      "execution_count": null,
      "outputs": []
    },
    {
      "cell_type": "code",
      "source": [],
      "metadata": {
        "id": "1Lwc8TJGhyM2"
      },
      "execution_count": null,
      "outputs": []
    },
    {
      "cell_type": "code",
      "source": [],
      "metadata": {
        "id": "LMlu5CA9hoUZ"
      },
      "execution_count": null,
      "outputs": []
    },
    {
      "cell_type": "code",
      "source": [],
      "metadata": {
        "id": "4mYEHPIehv3U"
      },
      "execution_count": null,
      "outputs": []
    },
    {
      "cell_type": "code",
      "source": [],
      "metadata": {
        "id": "CIKDg5VghK0Y"
      },
      "execution_count": null,
      "outputs": []
    },
    {
      "cell_type": "markdown",
      "source": [
        "## 3. List of target molecules (SMILES) and run"
      ],
      "metadata": {
        "id": "IMYX0t8_C0mr"
      }
    },
    {
      "cell_type": "code",
      "source": [
        "smiles_list = [\n",
        "    \"O=C(O)CCc1cccc(CO)c1\",\n",
        "    \"COc1ccc2c(O)cccc2c1\",\n",
        "    \"COC1CCc2c(O)cccc2C1\",\n",
        "    \"O=C(O)COc1ccccc1\",\n",
        "    \"O=C(O)c1cccc(C(=O)O)c1\"]\n",
        "for smi in smiles_list:\n",
        "    geo = smiles_to_geometry(smi)\n",
        "    print(f\"Running VQE for {smi} …\")\n",
        "    energy = run_vqe(geo)\n",
        "    print(f\" → Estimated ground state energy: {energy:.6f} Hartree\\n\")\n"
      ],
      "metadata": {
        "id": "kpcn-T7MXHza",
        "colab": {
          "base_uri": "https://localhost:8080/",
          "height": 216
        },
        "outputId": "c7b0f288-1c02-4a56-d8df-475e2a2623b8"
      },
      "execution_count": null,
      "outputs": [
        {
          "output_type": "error",
          "ename": "NameError",
          "evalue": "name 'smiles_to_geometry' is not defined",
          "traceback": [
            "\u001b[0;31m---------------------------------------------------------------------------\u001b[0m",
            "\u001b[0;31mNameError\u001b[0m                                 Traceback (most recent call last)",
            "\u001b[0;32m/tmp/ipython-input-1-1144814728.py\u001b[0m in \u001b[0;36m<cell line: 0>\u001b[0;34m()\u001b[0m\n\u001b[1;32m      6\u001b[0m     \"O=C(O)c1cccc(C(=O)O)c1\"] \n\u001b[1;32m      7\u001b[0m \u001b[0;32mfor\u001b[0m \u001b[0msmi\u001b[0m \u001b[0;32min\u001b[0m \u001b[0msmiles_list\u001b[0m\u001b[0;34m:\u001b[0m\u001b[0;34m\u001b[0m\u001b[0;34m\u001b[0m\u001b[0m\n\u001b[0;32m----> 8\u001b[0;31m     \u001b[0mgeo\u001b[0m \u001b[0;34m=\u001b[0m \u001b[0msmiles_to_geometry\u001b[0m\u001b[0;34m(\u001b[0m\u001b[0msmi\u001b[0m\u001b[0;34m)\u001b[0m\u001b[0;34m\u001b[0m\u001b[0;34m\u001b[0m\u001b[0m\n\u001b[0m\u001b[1;32m      9\u001b[0m     \u001b[0mprint\u001b[0m\u001b[0;34m(\u001b[0m\u001b[0;34mf\"Running VQE for {smi} …\"\u001b[0m\u001b[0;34m)\u001b[0m\u001b[0;34m\u001b[0m\u001b[0;34m\u001b[0m\u001b[0m\n\u001b[1;32m     10\u001b[0m     \u001b[0menergy\u001b[0m \u001b[0;34m=\u001b[0m \u001b[0mrun_vqe\u001b[0m\u001b[0;34m(\u001b[0m\u001b[0mgeo\u001b[0m\u001b[0;34m)\u001b[0m\u001b[0;34m\u001b[0m\u001b[0;34m\u001b[0m\u001b[0m\n",
            "\u001b[0;31mNameError\u001b[0m: name 'smiles_to_geometry' is not defined"
          ]
        }
      ]
    },
    {
      "cell_type": "code",
      "source": [],
      "metadata": {
        "id": "yIS4SKXjXHwQ"
      },
      "execution_count": null,
      "outputs": []
    },
    {
      "cell_type": "code",
      "source": [],
      "metadata": {
        "id": "KAfiOzaMXHsz"
      },
      "execution_count": null,
      "outputs": []
    },
    {
      "cell_type": "code",
      "source": [],
      "metadata": {
        "id": "FHhX-LI7XHpq"
      },
      "execution_count": null,
      "outputs": []
    },
    {
      "cell_type": "code",
      "source": [],
      "metadata": {
        "id": "lwlQXpf3XHmm"
      },
      "execution_count": null,
      "outputs": []
    },
    {
      "cell_type": "code",
      "source": [],
      "metadata": {
        "id": "sY45J1FuXHjh"
      },
      "execution_count": null,
      "outputs": []
    },
    {
      "cell_type": "code",
      "source": [],
      "metadata": {
        "id": "i13AjpD6XHVq"
      },
      "execution_count": null,
      "outputs": []
    },
    {
      "cell_type": "code",
      "source": [],
      "metadata": {
        "id": "ifgbYhkRXFpK"
      },
      "execution_count": null,
      "outputs": []
    }
  ]
}